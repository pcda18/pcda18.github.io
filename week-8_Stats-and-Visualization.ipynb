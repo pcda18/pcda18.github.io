{
 "cells": [
  {
   "cell_type": "markdown",
   "metadata": {},
   "source": [
    "# *Data Visualization and Statistics*\n",
    "\n",
    "Gallery of Matplotlib examples: [https://matplotlib.org/gallery.html](https://matplotlib.org/gallery.html)"
   ]
  },
  {
   "cell_type": "code",
   "execution_count": 1,
   "metadata": {},
   "outputs": [],
   "source": [
    "## First, let's import some packages.\n",
    "\n",
    "import os\n",
    "from pprint import pprint\n",
    "from textblob import TextBlob\n",
    "\n",
    "import numpy as np\n",
    "from scipy import stats\n",
    "import pandas as pd\n",
    "import matplotlib.pyplot as plt\n",
    "\n",
    "%matplotlib inline\n",
    "# The line above tells Jupyter to display Matplotlib graphics within the notebook."
   ]
  },
  {
   "cell_type": "code",
   "execution_count": 2,
   "metadata": {},
   "outputs": [
    {
     "name": "stdout",
     "output_type": "stream",
     "text": [
      "WARNING: timestamping does nothing in combination with -O. See the manual\n",
      "for details.\n",
      "\n",
      "--2018-03-09 05:16:35--  https://github.com/pcda18/pcda18.github.io/blob/master/week/8/Sample_corpora.zip?raw=true\n",
      "Resolving github.com (github.com)... 192.30.253.113, 192.30.253.112\n",
      "Connecting to github.com (github.com)|192.30.253.113|:443... connected.\n",
      "HTTP request sent, awaiting response... 302 Found\n",
      "Location: https://github.com/pcda18/pcda18.github.io/raw/master/week/8/Sample_corpora.zip [following]\n",
      "--2018-03-09 05:16:35--  https://github.com/pcda18/pcda18.github.io/raw/master/week/8/Sample_corpora.zip\n",
      "Reusing existing connection to github.com:443.\n",
      "HTTP request sent, awaiting response... 302 Found\n",
      "Location: https://raw.githubusercontent.com/pcda18/pcda18.github.io/master/week/8/Sample_corpora.zip [following]\n",
      "--2018-03-09 05:16:35--  https://raw.githubusercontent.com/pcda18/pcda18.github.io/master/week/8/Sample_corpora.zip\n",
      "Resolving raw.githubusercontent.com (raw.githubusercontent.com)... 151.101.184.133\n",
      "Connecting to raw.githubusercontent.com (raw.githubusercontent.com)|151.101.184.133|:443... connected.\n",
      "HTTP request sent, awaiting response... 200 OK\n",
      "Length: 13170081 (13M) [application/zip]\n",
      "Saving to: ‘Sample_corpora.zip’\n",
      "\n",
      "Sample_corpora.zip  100%[===================>]  12.56M  10.1MB/s    in 1.2s    \n",
      "\n",
      "2018-03-09 05:16:37 (10.1 MB/s) - ‘Sample_corpora.zip’ saved [13170081/13170081]\n",
      "\n",
      "Archive:  Sample_corpora.zip\n",
      "  inflating: Sample_corpora/Australian_Broadcasting_Commission_2006/rural.txt  \n",
      "  inflating: Sample_corpora/Australian_Broadcasting_Commission_2006/science.txt  \n",
      "  inflating: Sample_corpora/George_Eliot/Adam_Bede.txt  \n",
      "  inflating: Sample_corpora/George_Eliot/Daniel_Deronda.txt  \n",
      "  inflating: Sample_corpora/George_Eliot/Felix_Holt_the_Radical.txt  \n",
      "  inflating: Sample_corpora/George_Eliot/Middlemarch.txt  \n",
      "  inflating: Sample_corpora/George_Eliot/Romola.txt  \n",
      "  inflating: Sample_corpora/George_Eliot/Silas_Marner.txt  \n",
      "  inflating: Sample_corpora/George_Eliot/The_Mill_on_the_Floss.txt  \n",
      "  inflating: Sample_corpora/Herman_Melville/Bartleby_The_Scrivener.txt  \n",
      "  inflating: Sample_corpora/Herman_Melville/Battle-Pieces_and_Aspects_of_the_War.txt  \n",
      "  inflating: Sample_corpora/Herman_Melville/Billy_Budd.txt  \n",
      "  inflating: Sample_corpora/Herman_Melville/Israel_Potter.txt  \n",
      "  inflating: Sample_corpora/Herman_Melville/Mardi_vol_1.txt  \n",
      "  inflating: Sample_corpora/Herman_Melville/Mardi_vol_2.txt  \n",
      "  inflating: Sample_corpora/Herman_Melville/Moby_Dick.txt  \n",
      "  inflating: Sample_corpora/Herman_Melville/Omoo_Adventures_in_the_South_Seas.txt  \n",
      "  inflating: Sample_corpora/Herman_Melville/Pierre_or_the_Ambiguities.txt  \n",
      "  inflating: Sample_corpora/Herman_Melville/Redburn_His_First_Voyage.txt  \n",
      "  inflating: Sample_corpora/Herman_Melville/The_Confidence-Man.txt  \n",
      "  inflating: Sample_corpora/Herman_Melville/Typee.txt  \n",
      "  inflating: Sample_corpora/Herman_Melville/White_Jacket.txt  \n",
      "  inflating: Sample_corpora/Inaugural_Speeches/01_washington_1789.txt  \n",
      "  inflating: Sample_corpora/Inaugural_Speeches/02_washington_1793.txt  \n",
      "  inflating: Sample_corpora/Inaugural_Speeches/03_adams_john_1797.txt  \n",
      "  inflating: Sample_corpora/Inaugural_Speeches/04_jefferson_1801.txt  \n",
      "  inflating: Sample_corpora/Inaugural_Speeches/05_jefferson_1805.txt  \n",
      "  inflating: Sample_corpora/Inaugural_Speeches/06_madison_1809.txt  \n",
      "  inflating: Sample_corpora/Inaugural_Speeches/07_madison_1813.txt  \n",
      "  inflating: Sample_corpora/Inaugural_Speeches/08_monroe_1817.txt  \n",
      "  inflating: Sample_corpora/Inaugural_Speeches/09_monroe_1821.txt  \n",
      "  inflating: Sample_corpora/Inaugural_Speeches/10_adams_john_quincy_1825.txt  \n",
      "  inflating: Sample_corpora/Inaugural_Speeches/11_jackson_1829.txt  \n",
      "  inflating: Sample_corpora/Inaugural_Speeches/12_jackson_1833.txt  \n",
      "  inflating: Sample_corpora/Inaugural_Speeches/13_van_buren_1837.txt  \n",
      "  inflating: Sample_corpora/Inaugural_Speeches/14_harrison_1841.txt  \n",
      "  inflating: Sample_corpora/Inaugural_Speeches/15_polk_1845.txt  \n",
      "  inflating: Sample_corpora/Inaugural_Speeches/16_taylor_1849.txt  \n",
      "  inflating: Sample_corpora/Inaugural_Speeches/17_pierce_1853.txt  \n",
      "  inflating: Sample_corpora/Inaugural_Speeches/18_buchanan_1857.txt  \n",
      "  inflating: Sample_corpora/Inaugural_Speeches/19_lincoln_1861.txt  \n",
      "  inflating: Sample_corpora/Inaugural_Speeches/20_lincoln_1865.txt  \n",
      "  inflating: Sample_corpora/Inaugural_Speeches/21_grant_1869.txt  \n",
      "  inflating: Sample_corpora/Inaugural_Speeches/22_grant_1873.txt  \n",
      "  inflating: Sample_corpora/Inaugural_Speeches/23_hayes_1877.txt  \n",
      "  inflating: Sample_corpora/Inaugural_Speeches/24_garfield_1881.txt  \n",
      "  inflating: Sample_corpora/Inaugural_Speeches/25_cleveland_1885.txt  \n",
      "  inflating: Sample_corpora/Inaugural_Speeches/26_harrison_1889.txt  \n",
      "  inflating: Sample_corpora/Inaugural_Speeches/27_cleveland_1893.txt  \n",
      "  inflating: Sample_corpora/Inaugural_Speeches/28_mckinley_1897.txt  \n",
      "  inflating: Sample_corpora/Inaugural_Speeches/29_mckinley_1901.txt  \n",
      "  inflating: Sample_corpora/Inaugural_Speeches/30_roosevelt_theodore_1905.txt  \n",
      "  inflating: Sample_corpora/Inaugural_Speeches/31_taft_1909.txt  \n",
      "  inflating: Sample_corpora/Inaugural_Speeches/32_wilson_1913.txt  \n",
      "  inflating: Sample_corpora/Inaugural_Speeches/33_wilson_1917.txt  \n",
      "  inflating: Sample_corpora/Inaugural_Speeches/34_harding_1921.txt  \n",
      "  inflating: Sample_corpora/Inaugural_Speeches/35_coolidge_1925.txt  \n",
      "  inflating: Sample_corpora/Inaugural_Speeches/36_hoover_1929.txt  \n",
      "  inflating: Sample_corpora/Inaugural_Speeches/37_roosevelt_franklin_1933.txt  \n",
      "  inflating: Sample_corpora/Inaugural_Speeches/38_roosevelt_franklin_1937.txt  \n",
      "  inflating: Sample_corpora/Inaugural_Speeches/39_roosevelt_franklin_1941.txt  \n",
      "  inflating: Sample_corpora/Inaugural_Speeches/40_roosevelt_franklin_1945.txt  \n",
      "  inflating: Sample_corpora/Inaugural_Speeches/41_truman_1949.txt  \n",
      "  inflating: Sample_corpora/Inaugural_Speeches/42_eisenhower_1953.txt  \n",
      "  inflating: Sample_corpora/Inaugural_Speeches/43_eisenhower_1957.txt  \n",
      "  inflating: Sample_corpora/Inaugural_Speeches/44_kennedy_1961.txt  \n",
      "  inflating: Sample_corpora/Inaugural_Speeches/45_johnson_1965.txt  \n",
      "  inflating: Sample_corpora/Inaugural_Speeches/46_nixon_1969.txt  \n",
      "  inflating: Sample_corpora/Inaugural_Speeches/47_nixon_1973.txt  \n",
      "  inflating: Sample_corpora/Inaugural_Speeches/48_carter_1977.txt  \n",
      "  inflating: Sample_corpora/Inaugural_Speeches/49_reagan_1981.txt  \n",
      "  inflating: Sample_corpora/Inaugural_Speeches/50_reagan_1985.txt  \n",
      "  inflating: Sample_corpora/Inaugural_Speeches/51_bush_george_h_w_1989.txt  \n",
      "  inflating: Sample_corpora/Inaugural_Speeches/52_clinton_1993.txt  \n",
      "  inflating: Sample_corpora/Inaugural_Speeches/53_clinton_1997.txt  \n",
      "  inflating: Sample_corpora/Inaugural_Speeches/54_bush_george_w_2001.txt  \n",
      "  inflating: Sample_corpora/Inaugural_Speeches/55_bush_george_w_2005.txt  \n",
      "  inflating: Sample_corpora/Inaugural_Speeches/56_obama_2009.txt  \n",
      "  inflating: Sample_corpora/Inaugural_Speeches/57_obama_2013.txt  \n",
      "  inflating: Sample_corpora/Inaugural_Speeches/58_trump_2017.txt  \n",
      "  inflating: Sample_corpora/Jane_Austen/Emma.txt  \n",
      "  inflating: Sample_corpora/Jane_Austen/Mansfield_Park.txt  \n",
      "  inflating: Sample_corpora/Jane_Austen/Northanger_Abbey.txt  \n",
      "  inflating: Sample_corpora/Jane_Austen/Persuasion.txt  \n",
      "  inflating: Sample_corpora/Jane_Austen/Pride_and_Prejudice.txt  \n",
      "  inflating: Sample_corpora/Jane_Austen/Sense_and_Sensibility.txt  \n",
      "  inflating: Sample_corpora/Joseph_Conrad/Almayer's_Folly.txt  \n",
      "  inflating: Sample_corpora/Joseph_Conrad/Chance.txt  \n",
      "  inflating: Sample_corpora/Joseph_Conrad/Heart_of_Darkness.txt  \n",
      "  inflating: Sample_corpora/Joseph_Conrad/Lord_Jim.txt  \n",
      "  inflating: Sample_corpora/Joseph_Conrad/Nostromo.txt  \n",
      "  inflating: Sample_corpora/Joseph_Conrad/Romance.txt  \n",
      "  inflating: Sample_corpora/Joseph_Conrad/The_Arrow_of_Gold.txt  \n",
      "  inflating: Sample_corpora/Joseph_Conrad/The_Inheritors.txt  \n",
      "  inflating: Sample_corpora/Joseph_Conrad/The_Nature_of_a_Crime.txt  \n",
      "  inflating: Sample_corpora/Joseph_Conrad/The_Nigger_of_the_Narcissus.txt  \n",
      "  inflating: Sample_corpora/Joseph_Conrad/The_Outcast_of_the_Islands.txt  \n",
      "  inflating: Sample_corpora/Joseph_Conrad/The_Rescue.txt  \n",
      "  inflating: Sample_corpora/Joseph_Conrad/The_Secret_Agent.txt  \n",
      "  inflating: Sample_corpora/Joseph_Conrad/The_Shadow-Line.txt  \n"
     ]
    },
    {
     "name": "stdout",
     "output_type": "stream",
     "text": [
      "  inflating: Sample_corpora/Joseph_Conrad/Typhoon.txt  \n",
      "  inflating: Sample_corpora/Joseph_Conrad/Under_Western_Eyes.txt  \n",
      "  inflating: Sample_corpora/Joseph_Conrad/Victory.txt  \n"
     ]
    }
   ],
   "source": [
    "## Download sample text corpora from GitHub, then unzip.\n",
    "\n",
    "os.chdir('/sharedfolder/')\n",
    "\n",
    "!wget -N https://github.com/pcda18/pcda18.github.io/blob/master/week/8/Sample_corpora.zip?raw=true -O Sample_corpora.zip\n",
    "!unzip -o Sample_corpora.zip"
   ]
  },
  {
   "cell_type": "code",
   "execution_count": null,
   "metadata": {},
   "outputs": [],
   "source": [
    "os.chdir('/sharedfolder/Sample_corpora')\n",
    "\n",
    "os.listdir('./')"
   ]
  },
  {
   "cell_type": "code",
   "execution_count": null,
   "metadata": {},
   "outputs": [],
   "source": [
    "!ls Jane_Austen"
   ]
  },
  {
   "cell_type": "code",
   "execution_count": null,
   "metadata": {},
   "outputs": [],
   "source": [
    "!ls Herman_Melville"
   ]
  },
  {
   "cell_type": "code",
   "execution_count": null,
   "metadata": {},
   "outputs": [],
   "source": [
    "## Loading a Melville novel as a TextBlob object\n",
    "\n",
    "melville_path = 'Herman_Melville/Moby_Dick.txt'\n",
    "\n",
    "melville_blob = TextBlob(open(melville_path).read().replace('\\n', ' '))"
   ]
  },
  {
   "cell_type": "code",
   "execution_count": null,
   "metadata": {},
   "outputs": [],
   "source": [
    "## Loading an Austen novel as a TextBlob object\n",
    "\n",
    "austen_path = 'Jane_Austen/Pride_and_Prejudice.txt'\n",
    "\n",
    "austen_blob = TextBlob(open(austen_path).read().replace('\\n', ' '))"
   ]
  },
  {
   "cell_type": "code",
   "execution_count": null,
   "metadata": {},
   "outputs": [],
   "source": [
    "## Recall that 'some_textblob_object.words' is a WordList object ...\n",
    "\n",
    "melville_blob.words[5100:5140]"
   ]
  },
  {
   "cell_type": "code",
   "execution_count": null,
   "metadata": {},
   "outputs": [],
   "source": [
    "# ... which we can cast to an ordinary list.\n",
    "\n",
    "list(melville_blob.words[5100:5140])"
   ]
  },
  {
   "cell_type": "code",
   "execution_count": null,
   "metadata": {},
   "outputs": [],
   "source": [
    "## And 'some_textblob_object.sentences' is a list of Sentence objects ...\n",
    "\n",
    "austen_blob.sentences[100:105]"
   ]
  },
  {
   "cell_type": "code",
   "execution_count": null,
   "metadata": {},
   "outputs": [],
   "source": [
    "# ... which we can convert to a list of strings using a list comprehension.\n",
    "\n",
    "[str(item) for item in austen_blob.sentences[100:105]]"
   ]
  },
  {
   "cell_type": "code",
   "execution_count": null,
   "metadata": {},
   "outputs": [],
   "source": [
    "## For reference, here's another example of a list comprehension:\n",
    "\n",
    "word_list = ['Call', 'me', 'Ishmael.']\n",
    "\n",
    "uppercase_list = [word.upper() for word in word_list]\n",
    "\n",
    "uppercase_list"
   ]
  },
  {
   "cell_type": "code",
   "execution_count": null,
   "metadata": {},
   "outputs": [],
   "source": [
    "## And one more for good measure:\n",
    "\n",
    "string_nums = [str(i) for i in range(12)]\n",
    "\n",
    "string_nums"
   ]
  },
  {
   "cell_type": "code",
   "execution_count": null,
   "metadata": {},
   "outputs": [],
   "source": []
  },
  {
   "cell_type": "markdown",
   "metadata": {},
   "source": [
    "### ▷ Sentiment analysis with TextBlob\n",
    "\n",
    "Details on the training data that NLTK (via TextBlob) uses to measure polarity:\n",
    "[http://www.cs.cornell.edu/people/pabo/movie-review-data/](http://www.cs.cornell.edu/people/pabo/movie-review-data/)"
   ]
  },
  {
   "cell_type": "code",
   "execution_count": null,
   "metadata": {},
   "outputs": [],
   "source": [
    "## Negative sentiment polarity example\n",
    "# (result between -1 and +1)\n",
    "\n",
    "from textblob import TextBlob\n",
    "\n",
    "text = \"This is a very mean and nasty sentence.\"\n",
    "\n",
    "blob = TextBlob(text)\n",
    "\n",
    "sentiment_score = blob.sentiment.polarity\n",
    "\n",
    "print(sentiment_score)"
   ]
  },
  {
   "cell_type": "code",
   "execution_count": null,
   "metadata": {},
   "outputs": [],
   "source": [
    "## Positive sentiment polarity example\n",
    "# (result between -1 and +1)\n",
    "\n",
    "text = \"This is a very nice and positive sentence.\"\n",
    "\n",
    "blob = TextBlob(text)\n",
    "\n",
    "sentiment_score = blob.sentiment.polarity\n",
    "\n",
    "print(sentiment_score)"
   ]
  },
  {
   "cell_type": "code",
   "execution_count": null,
   "metadata": {},
   "outputs": [],
   "source": [
    "## Neutral polarity / not enough information\n",
    "\n",
    "text = \"What is this?\"\n",
    "\n",
    "blob = TextBlob(text)\n",
    "\n",
    "sentiment_score = blob.sentiment.polarity\n",
    "\n",
    "print(sentiment_score)"
   ]
  },
  {
   "cell_type": "code",
   "execution_count": null,
   "metadata": {},
   "outputs": [],
   "source": [
    "## High subjectivity example\n",
    "# result between 0 and 1\n",
    "\n",
    "text=\"This is a very mean and nasty sentence.\"\n",
    "\n",
    "blob = TextBlob(text)\n",
    "\n",
    "sentiment_score = blob.sentiment.subjectivity\n",
    "\n",
    "print(sentiment_score)"
   ]
  },
  {
   "cell_type": "code",
   "execution_count": null,
   "metadata": {},
   "outputs": [],
   "source": [
    "## Low subjectivity example\n",
    "# result between 0 and 1\n",
    "\n",
    "text=\"This sentence states a fact, with an apparently objective adjective.\"\n",
    "\n",
    "blob = TextBlob(text)\n",
    "\n",
    "sentiment_score=blob.sentiment.subjectivity\n",
    "\n",
    "print(sentiment_score)"
   ]
  },
  {
   "cell_type": "markdown",
   "metadata": {
    "collapsed": true
   },
   "source": [
    "### ▷ Plotting Sentiment Values\n",
    "\n",
    "Let's map sentiment polarity values across the course of a full novel."
   ]
  },
  {
   "cell_type": "code",
   "execution_count": null,
   "metadata": {},
   "outputs": [],
   "source": [
    "## Viewing Pyplot style templates\n",
    "\n",
    "pprint(plt.style.available)"
   ]
  },
  {
   "cell_type": "code",
   "execution_count": null,
   "metadata": {},
   "outputs": [],
   "source": [
    "## Selecting a Pyplot style\n",
    "\n",
    "plt.style.use('ggplot')\n",
    "\n",
    "# The 'ggplot' style imitates the R graphing package 'ggplot2.' (http://ggplot2.org)"
   ]
  },
  {
   "cell_type": "code",
   "execution_count": null,
   "metadata": {},
   "outputs": [],
   "source": [
    "austen_sentiments = [item.sentiment.polarity for item in austen_blob.sentences]\n",
    "\n",
    "austen_sentiments[:15]"
   ]
  },
  {
   "cell_type": "code",
   "execution_count": null,
   "metadata": {},
   "outputs": [],
   "source": [
    "## Austen sentiment values for first 60 sentences\n",
    "\n",
    "plt.figure(figsize=(18,8))\n",
    "plt.plot(austen_sentiments[:60])"
   ]
  },
  {
   "cell_type": "code",
   "execution_count": null,
   "metadata": {},
   "outputs": [],
   "source": [
    "austen_blob.sentences[30]"
   ]
  },
  {
   "cell_type": "code",
   "execution_count": null,
   "metadata": {},
   "outputs": [],
   "source": [
    "austen_blob.sentences[37]"
   ]
  },
  {
   "cell_type": "code",
   "execution_count": null,
   "metadata": {},
   "outputs": [],
   "source": [
    "## Plotting 'Pride and Prejudice' sentence sentiment values over full novel\n",
    "\n",
    "plt.figure(figsize=(18,8))\n",
    "\n",
    "plt.plot(austen_sentiments)\n",
    "\n",
    "plt.show()"
   ]
  },
  {
   "cell_type": "code",
   "execution_count": null,
   "metadata": {},
   "outputs": [],
   "source": [
    "## Finding the most 'positive' sentences in 'Pride and Prejudice' and printing them\n",
    "\n",
    "max_sentiment = max(austen_sentiments)\n",
    "\n",
    "print(max_sentiment) # max sentiment polarity value\n",
    "print()\n",
    "\n",
    "for sentence in austen_blob.sentences:\n",
    "    if sentence.sentiment.polarity == max_sentiment:\n",
    "        print(sentence)\n",
    "        print()"
   ]
  },
  {
   "cell_type": "code",
   "execution_count": null,
   "metadata": {},
   "outputs": [],
   "source": [
    "## Finding the most 'negative' sentences in 'Pride and Prejudice' and printing them\n",
    "\n",
    "min_sentiment = min(austen_sentiments)\n",
    "\n",
    "print(min_sentiment) # max sentiment polarity value\n",
    "print()\n",
    "\n",
    "for sentence in austen_blob.sentences:\n",
    "    if sentence.sentiment.polarity == min_sentiment:\n",
    "        print(sentence)\n",
    "        print()"
   ]
  },
  {
   "cell_type": "code",
   "execution_count": null,
   "metadata": {},
   "outputs": [],
   "source": [
    "## Example: smoothing a list of numbers using the 'pandas' package\n",
    "\n",
    "some_values = [5, 4, 5, 6, 6, 7, 6, 19, 4, 4, 3, 3, 3, 1, 5, 5, 6, 7, 0]\n",
    "\n",
    "pandas_series = pd.Series(some_values)\n",
    "\n",
    "list(pandas_series.rolling(window=4).mean())"
   ]
  },
  {
   "cell_type": "code",
   "execution_count": null,
   "metadata": {},
   "outputs": [],
   "source": [
    "## Smoothing our data before plotting\n",
    "\n",
    "austen_sentiments_pd = pd.Series(austen_sentiments)\n",
    "\n",
    "austen_sentiments_smooth = austen_sentiments_pd.rolling(window=200).mean()\n",
    "\n",
    "print(austen_sentiments_smooth[190:220])"
   ]
  },
  {
   "cell_type": "code",
   "execution_count": null,
   "metadata": {},
   "outputs": [],
   "source": [
    "## Plotting smoothed sentiment polarity values for each sentence in 'Pride and Prejudice'\n",
    "\n",
    "plt.figure(figsize=(18,8))\n",
    "\n",
    "plt.plot(austen_sentiments_smooth)\n",
    "\n",
    "plt.show()"
   ]
  },
  {
   "cell_type": "code",
   "execution_count": null,
   "metadata": {},
   "outputs": [],
   "source": [
    "## Comparing 'Moby Dick' sentiment values\n",
    "\n",
    "melville_sentiments = [item.sentiment.polarity for item in melville_blob.sentences]\n",
    "\n",
    "melville_sentiments_pd = pd.Series(melville_sentiments)\n",
    "\n",
    "melville_sentiments_smooth = melville_sentiments_pd.rolling(window=200).mean()\n",
    "\n",
    "plt.figure(figsize=(18,8))\n",
    "\n",
    "plt.plot(melville_sentiments_smooth)\n",
    "\n",
    "plt.show()"
   ]
  },
  {
   "cell_type": "code",
   "execution_count": null,
   "metadata": {},
   "outputs": [],
   "source": [
    "## Finding and printing the most 'negative' sentence in a list of smoothed sentiment values\n",
    "\n",
    "min_sentiment = min(melville_sentiments_smooth[199:])\n",
    "\n",
    "print(min_sentiment) # min sentiment polarity value\n",
    "print()\n",
    "\n",
    "min_sentiment_index = list(melville_sentiments_smooth).index(min_sentiment) # index position of the 'min_sentiment' value\n",
    "\n",
    "print(melville_blob.sentences[min_sentiment_index])"
   ]
  },
  {
   "cell_type": "code",
   "execution_count": null,
   "metadata": {},
   "outputs": [],
   "source": [
    "## Finding and printing the most 'positive' sentence in a list of smoothed sentiment values\n",
    "\n",
    "max_sentiment = max(melville_sentiments_smooth[199:])\n",
    "\n",
    "print(max_sentiment) # max sentiment polarity value\n",
    "print()\n",
    "\n",
    "max_sentiment_index = list(melville_sentiments_smooth).index(max_sentiment) # index position of the 'min_sentiment' value\n",
    "\n",
    "print(melville_blob.sentences[max_sentiment_index])"
   ]
  },
  {
   "cell_type": "code",
   "execution_count": null,
   "metadata": {},
   "outputs": [],
   "source": []
  },
  {
   "cell_type": "code",
   "execution_count": null,
   "metadata": {},
   "outputs": [],
   "source": [
    "## Finding and printing the most 'positive' sentence in a list of smoothed sentiment values\n",
    "\n",
    "max_sentiment = max(austen_sentiments_smooth[199:])\n",
    "\n",
    "print(max_sentiment) # max sentiment polarity value\n",
    "print()\n",
    "\n",
    "max_sentiment_index = list(austen_sentiments_smooth).index(max_sentiment) # index position of the 'max_sentiment' value\n",
    "\n",
    "print(austen_blob.sentences[max_sentiment_index])"
   ]
  },
  {
   "cell_type": "code",
   "execution_count": null,
   "metadata": {},
   "outputs": [],
   "source": [
    "## Finding and printing the most 'negative' sentence in a list of smoothed sentiment values\n",
    "\n",
    "min_sentiment = min(austen_sentiments_smooth[199:])\n",
    "\n",
    "print(min_sentiment) # min sentiment polarity value\n",
    "print()\n",
    "\n",
    "min_sent_index=list(austen_sentiments_smooth).index(min_sentiment) # index position of the 'min_sentiment' value\n",
    "\n",
    "print(austen_blob.sentences[min_sent_index])"
   ]
  },
  {
   "cell_type": "code",
   "execution_count": null,
   "metadata": {},
   "outputs": [],
   "source": []
  },
  {
   "cell_type": "code",
   "execution_count": null,
   "metadata": {},
   "outputs": [],
   "source": [
    "## Creating functions to expedite the steps we put together above process\n",
    "# This function accepts an optional second argument for smoothing window size. The default is 200 windows.\n",
    "\n",
    "def plot_polarity(text_path, window=200):\n",
    "    text_in = open(text_path).read().replace('\\n', ' ')\n",
    "    blob = TextBlob(text_in)\n",
    "    sentiments = [sentence.sentiment.polarity for sentence in blob.sentences]\n",
    "    sentiments_pd = pd.Series(sentiments)\n",
    "    sentiments_smooth = sentiments_pd.rolling(window).mean()\n",
    "    plt.figure(figsize = (18,8))\n",
    "    plt.plot(sentiments_smooth)\n",
    "    plt.show()"
   ]
  },
  {
   "cell_type": "code",
   "execution_count": null,
   "metadata": {},
   "outputs": [],
   "source": [
    "!find ./"
   ]
  },
  {
   "cell_type": "code",
   "execution_count": null,
   "metadata": {},
   "outputs": [],
   "source": [
    "plot_polarity('George_Eliot/Silas_Marner.txt')"
   ]
  },
  {
   "cell_type": "code",
   "execution_count": null,
   "metadata": {},
   "outputs": [],
   "source": [
    "plot_polarity('Joseph_Conrad/Heart_of_Darkness.txt')"
   ]
  },
  {
   "cell_type": "code",
   "execution_count": null,
   "metadata": {},
   "outputs": [],
   "source": []
  },
  {
   "cell_type": "markdown",
   "metadata": {},
   "source": [
    "### ▷ Plotting smoothed random data (for comparison)"
   ]
  },
  {
   "cell_type": "code",
   "execution_count": null,
   "metadata": {},
   "outputs": [],
   "source": [
    "## Plotting completely random data\n",
    "\n",
    "random_vals = np.random.rand(4000)\n",
    "\n",
    "vals_pd = pd.Series(random_vals)\n",
    "vals_smooth = vals_pd.rolling(window=200).mean()\n",
    "\n",
    "plt.figure(figsize=(18,8))\n",
    "plt.plot(vals_smooth)"
   ]
  },
  {
   "cell_type": "code",
   "execution_count": null,
   "metadata": {},
   "outputs": [],
   "source": []
  },
  {
   "cell_type": "markdown",
   "metadata": {},
   "source": [
    "### ▷ Working with multiple files"
   ]
  },
  {
   "cell_type": "code",
   "execution_count": null,
   "metadata": {},
   "outputs": [],
   "source": [
    "!ls *"
   ]
  },
  {
   "cell_type": "code",
   "execution_count": null,
   "metadata": {},
   "outputs": [],
   "source": [
    "os.chdir('/sharedfolder/Sample_corpora/Inaugural_Speeches/')\n",
    "sorted(os.listdir('./'))"
   ]
  },
  {
   "cell_type": "code",
   "execution_count": null,
   "metadata": {},
   "outputs": [],
   "source": [
    "inaugural_filenames = sorted(os.listdir('./'))\n",
    "\n",
    "inaugural_sentiment_values = []\n",
    "\n",
    "for filename in inaugural_filenames:\n",
    "    inaugural_text = open(filename).read()\n",
    "    sentiment_polarity_value = TextBlob(inaugural_text).sentiment.polarity\n",
    "    inaugural_sentiment_values.append(sentiment_polarity_value)\n",
    "\n",
    "print(inaugural_sentiment_values)"
   ]
  },
  {
   "cell_type": "code",
   "execution_count": null,
   "metadata": {},
   "outputs": [],
   "source": [
    "## Creating nicely formatted labels for the sentiment values above\n",
    "\n",
    "inaugural_labels = [item.replace('.txt','').replace('_', ' ').title() for item in inaugural_filenames]\n",
    "\n",
    "inaugural_labels"
   ]
  },
  {
   "cell_type": "code",
   "execution_count": null,
   "metadata": {},
   "outputs": [],
   "source": [
    "## Plotting presidential inaugural address sentiment values over time\n",
    "\n",
    "plt.figure(figsize = (20,8))\n",
    "\n",
    "plt.xticks(range(len(inaugural_sentiment_values)), inaugural_labels)  # two arguments: tick positions, tick display list\n",
    "\n",
    "plt.xticks(rotation=-85)\n",
    "\n",
    "plt.ylabel('Sentiment Polarity Value')\n",
    "\n",
    "plt.plot(inaugural_sentiment_values)\n",
    "\n",
    "plt.show()"
   ]
  },
  {
   "cell_type": "markdown",
   "metadata": {},
   "source": [
    "## ▷ Assignment\n",
    "\n",
    "    For each author in our set of corpora, which is their most 'positive' novel? Their most 'negative'?"
   ]
  },
  {
   "cell_type": "code",
   "execution_count": null,
   "metadata": {},
   "outputs": [],
   "source": []
  },
  {
   "cell_type": "code",
   "execution_count": null,
   "metadata": {},
   "outputs": [],
   "source": []
  },
  {
   "cell_type": "code",
   "execution_count": null,
   "metadata": {},
   "outputs": [],
   "source": []
  },
  {
   "cell_type": "code",
   "execution_count": null,
   "metadata": {},
   "outputs": [],
   "source": []
  },
  {
   "cell_type": "markdown",
   "metadata": {},
   "source": [
    "## ▷ Sentiment Histograms"
   ]
  },
  {
   "cell_type": "code",
   "execution_count": null,
   "metadata": {},
   "outputs": [],
   "source": [
    "os.chdir('/sharedfolder/Sample_corpora/')"
   ]
  },
  {
   "cell_type": "code",
   "execution_count": null,
   "metadata": {},
   "outputs": [],
   "source": [
    "text_in = open('Jane_Austen/Pride_and_Prejudice.txt').read().replace('\\n', ' ')\n",
    "\n",
    "blob = TextBlob(text_in)\n",
    "sentiments = [sentence.sentiment.polarity for sentence in blob.sentences]\n",
    "plt.figure(figsize=(20,10))\n",
    "plt.hist(sentiments, bins=25)\n",
    "plt.show()"
   ]
  },
  {
   "cell_type": "code",
   "execution_count": null,
   "metadata": {},
   "outputs": [],
   "source": [
    "text_in = open('Jane_Austen/Pride_and_Prejudice.txt').read().replace('\\n', ' ')\n",
    "\n",
    "blob = TextBlob(text_in)\n",
    "sentiments = [sentence.sentiment.subjectivity for sentence in blob.sentences]\n",
    "plt.figure(figsize=(20,10))\n",
    "plt.hist(sentiments, bins=25)\n",
    "plt.show()"
   ]
  },
  {
   "cell_type": "code",
   "execution_count": null,
   "metadata": {},
   "outputs": [],
   "source": []
  },
  {
   "cell_type": "markdown",
   "metadata": {},
   "source": [
    "## ▷ Cleaning sentiment values"
   ]
  },
  {
   "cell_type": "code",
   "execution_count": null,
   "metadata": {},
   "outputs": [],
   "source": [
    "text_in = open('Jane_Austen/Pride_and_Prejudice.txt').read().replace('\\n', ' ')\n",
    "\n",
    "blob = TextBlob(text_in)\n",
    "sentiments = [sentence.sentiment.polarity for sentence in blob.sentences]\n",
    "sentiments_cleaned = [value for value in sentiments if value!=0]\n",
    "plt.figure(figsize=(20,10))\n",
    "plt.hist(sentiments_cleaned, bins=25)\n",
    "plt.show()"
   ]
  },
  {
   "cell_type": "code",
   "execution_count": null,
   "metadata": {},
   "outputs": [],
   "source": [
    "def polarity_histogram_cleaned(text_path):\n",
    "    text_in = open(text_path).read().replace('\\n', ' ')\n",
    "    blob = TextBlob(text_in)\n",
    "    sentiments = [sentence.sentiment.polarity for sentence in blob.sentences]\n",
    "    sentiments_cleaned = [value for value in sentiments if value!=0]\n",
    "    plt.figure(figsize=(20,10))\n",
    "    plt.hist(sentiments_cleaned, bins=25)\n",
    "    plt.show()"
   ]
  },
  {
   "cell_type": "code",
   "execution_count": null,
   "metadata": {},
   "outputs": [],
   "source": [
    "!find ./"
   ]
  },
  {
   "cell_type": "code",
   "execution_count": null,
   "metadata": {},
   "outputs": [],
   "source": [
    "polarity_histogram_cleaned('./Joseph_Conrad/The_Secret_Agent.txt')"
   ]
  },
  {
   "cell_type": "code",
   "execution_count": null,
   "metadata": {},
   "outputs": [],
   "source": []
  },
  {
   "cell_type": "markdown",
   "metadata": {
    "collapsed": true
   },
   "source": [
    "## ▷ Comparing Sentiment Distributions"
   ]
  },
  {
   "cell_type": "code",
   "execution_count": null,
   "metadata": {},
   "outputs": [],
   "source": [
    "melville_blob = TextBlob(open('Herman_Melville/Moby_Dick.txt').read().replace('\\n', ' '))\n",
    "austen_blob = TextBlob(open('Jane_Austen/Pride_and_Prejudice.txt').read().replace('\\n', ' '))\n",
    "\n",
    "melville_sentiments = [sentence.sentiment.polarity for sentence in melville_blob.sentences]\n",
    "melville_sentiments_cleaned = [value for value in melville_sentiments if value!=0.0]\n",
    "\n",
    "austen_sentiments = [sentence.sentiment.polarity for sentence in austen_blob.sentences]\n",
    "austen_sentiments_cleaned = [value for value in austen_sentiments if value!=0.0]\n",
    "\n",
    "plt.figure(figsize=(15,8))\n",
    "\n",
    "plt.hist(melville_sentiments_cleaned, bins=25, alpha=0.5, label='Moby Dick')\n",
    "plt.hist(austen_sentiments_cleaned, bins=25, alpha=0.5, label='Pride and Prejudice')\n",
    "\n",
    "plt.legend(loc='upper right')\n",
    "\n",
    "plt.show()"
   ]
  },
  {
   "cell_type": "code",
   "execution_count": null,
   "metadata": {},
   "outputs": [],
   "source": [
    "print(np.mean(melville_sentiments_cleaned))\n",
    "print(np.mean(austen_sentiments_cleaned))"
   ]
  },
  {
   "cell_type": "code",
   "execution_count": null,
   "metadata": {},
   "outputs": [],
   "source": []
  },
  {
   "cell_type": "markdown",
   "metadata": {},
   "source": [
    "## ▷ Statistical Tests"
   ]
  },
  {
   "cell_type": "code",
   "execution_count": null,
   "metadata": {},
   "outputs": [],
   "source": [
    "## t-test of independent values\n",
    "# (used to determine whether two *normally distributed* sets of values are significantly different)\n",
    "\n",
    "from scipy import stats\n",
    "\n",
    "stats.ttest_ind(melville_sentiments_cleaned, austen_sentiments_cleaned)"
   ]
  },
  {
   "cell_type": "code",
   "execution_count": null,
   "metadata": {},
   "outputs": [],
   "source": [
    "## Mann-Whitney U test\n",
    "# (used to test two sets of *non-normally distributed* values are significantly different)\n",
    "\n",
    "stats.mannwhitneyu(melville_sentiments, austen_sentiments)"
   ]
  },
  {
   "cell_type": "code",
   "execution_count": null,
   "metadata": {},
   "outputs": [],
   "source": []
  },
  {
   "cell_type": "markdown",
   "metadata": {},
   "source": [
    "## ▷ Assignment\n",
    "\n",
    "    Is George Eliot significantly more subjective than Jane Austen?\n",
    "    Is Herman Melville significantly more 'positive' than Joseph Conrad?"
   ]
  },
  {
   "cell_type": "code",
   "execution_count": null,
   "metadata": {},
   "outputs": [],
   "source": []
  },
  {
   "cell_type": "code",
   "execution_count": null,
   "metadata": {},
   "outputs": [],
   "source": []
  },
  {
   "cell_type": "code",
   "execution_count": null,
   "metadata": {},
   "outputs": [],
   "source": []
  },
  {
   "cell_type": "code",
   "execution_count": null,
   "metadata": {},
   "outputs": [],
   "source": []
  },
  {
   "cell_type": "markdown",
   "metadata": {},
   "source": [
    "## ▷ Assignment\n",
    "\n",
    "    Write a function that takes two texts' paths as arguments and \n",
    "    (a) plots a histogram comparing their sentences' sentiment distributions\n",
    "    (b) tests whether their sentiment values are significantly different"
   ]
  },
  {
   "cell_type": "code",
   "execution_count": null,
   "metadata": {},
   "outputs": [],
   "source": []
  },
  {
   "cell_type": "code",
   "execution_count": null,
   "metadata": {},
   "outputs": [],
   "source": []
  },
  {
   "cell_type": "code",
   "execution_count": null,
   "metadata": {},
   "outputs": [],
   "source": []
  },
  {
   "cell_type": "code",
   "execution_count": null,
   "metadata": {},
   "outputs": [],
   "source": []
  }
 ],
 "metadata": {
  "kernelspec": {
   "display_name": "Python 3",
   "language": "python",
   "name": "python3"
  },
  "language_info": {
   "codemirror_mode": {
    "name": "ipython",
    "version": 3
   },
   "file_extension": ".py",
   "mimetype": "text/x-python",
   "name": "python",
   "nbconvert_exporter": "python",
   "pygments_lexer": "ipython3",
   "version": "3.5.2"
  }
 },
 "nbformat": 4,
 "nbformat_minor": 1
}
