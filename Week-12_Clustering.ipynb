{
 "cells": [
  {
   "cell_type": "markdown",
   "metadata": {},
   "source": [
    "# *Unsupervised learning: k-means clustering*\n",
    "\n",
    "[http://scikit-learn.org/stable/modules/generated/sklearn.cluster.KMeans.html](http://scikit-learn.org/stable/modules/generated/sklearn.cluster.KMeans.html)"
   ]
  },
  {
   "cell_type": "code",
   "execution_count": 1,
   "metadata": {},
   "outputs": [],
   "source": [
    "## Importing basic packages\n",
    "\n",
    "import os\n",
    "import random\n",
    "import numpy as np"
   ]
  },
  {
   "cell_type": "code",
   "execution_count": 2,
   "metadata": {},
   "outputs": [],
   "source": [
    "%%capture\n",
    "## Downloading several hundred New York Times articles as text files\n",
    "\n",
    "os.chdir('/sharedfolder/')\n",
    "\n",
    "#!wget -N https://github.com/pcda18/pcda18.github.io/raw/master/week/10/nyt_articles_11-9-2017.zip\n",
    "#!unzip -o nyt_articles_11-9-2017.zip"
   ]
  },
  {
   "cell_type": "code",
   "execution_count": 3,
   "metadata": {},
   "outputs": [
    {
     "name": "stdout",
     "output_type": "stream",
     "text": [
      "451\n"
     ]
    },
    {
     "data": {
      "text/plain": [
       "'Photo  “Grey’s Anatomy” reaches its 300th episode. And two comedies revel in their cringiness.  What’s on TV  NATHAN FOR YOU 9 p.m. on Comedy Central. One mission of the Canadian comic Nathan Fielder is to help small-business owners attract customers by whatever means necessary. Those means vary from counterintuitive (letting customers shoplift) to absurd (staging a video of a pig saving a goat at a petting zoo) to morally queasy (advertising at cemeteries). Whether his schemes work is beside the point. “His deadpan genius is in defining the age, not solving its problems,” wrote Neil Genzlinger in a review in The New York Times. In the season finale, Mr. Fielder attempts to help a Bill Gates impersonator reunite with his long-lost love.  X-MEN: FIRST CLASS (2011) 7:45 p.m. on FXM. The fifth installment of the “X-Men” franchise jumps back to the 1960s, when the United States was on the brink of nuclear war and turtlenecks were all the rage. James McAvoy (as the idealistic Charles Xavier) and Michael Fassbender (as the bitter, anguished Erik Lehnsherr) anchor the movie; while the world rages around them and governments target them for their mutant powers, the young men slowly transform into the formidable characters of Professor X and Magneto. “The whole enterprise has an agreeable lightness, no small thing, given its rapidly moving parts,” Manohla Dargis wrote in her review in The Times.  Photo  GREY’S ANATOMY 8 p.m. on ABC. A small number of American television dramas have reached 300 episodes — the list consists of cultural pillars like “Lassie,” “Law & Order” and “CSI.” On Thursday, “Grey’s Anatomy” joins the club, with a special episode that looks back on the show’s history. Dr. Meredith Grey (Ellen Pompeo) and Dr. Alex Karev (Justin Chambers) find themselves treating a group of patients from a roller-coaster accident who look eerily like the show’s three other original interns: Izzie Stevens (Katherine Heigl), Cristina Yang (Sandra Oh) and George O’Malley (T. R. Knight). And the showrunners have promised a special Easter egg hunt for fans.  Photo  BETTER THINGS 10 p.m. on FX. In an essay for The Times this week, Pamela Adlon wrote about her agonizing adolescence: “All of 9, and I had legs like Jon Hamm’s face at 5 o’clock,” she wrote. She brings a similar unblinking, uproarious honesty to her show “Better Things,” on which she plays Sam, a single mother of three. In this episode she takes her girls on a trip.  What’s Streaming  AN IDIOT ABROAD on Netflix. One of Nathan Fielder’s spiritual predecessors in cringe humor is Karl Pilkington, an ill-tempered, gormless producer and writer; he makes his friend and collaborator Ricky Gervais crack up with every gripe. In this show, Mr. Gervais and Stephen Merchant send Mr. Pilkington around the world for deeply uncomfortable encounters; he mopes along the Great Wall of China, trains as a luchador in Mexico and learns to samba in Brazil, all the while unleashing his signature tirades on unsuspecting bystanders.'"
      ]
     },
     "execution_count": 3,
     "metadata": {},
     "output_type": "execute_result"
    }
   ],
   "source": [
    "## Loading all text files in the current directory as a list of strings\n",
    "\n",
    "os.chdir('/sharedfolder/nyt_articles_11-9-2017/')\n",
    "\n",
    "document_list = []\n",
    "\n",
    "for filename in [item for item in os.listdir('./') if '.txt' in item]: # Excluding files other than .txt with a list comprehension\n",
    "    text_data = open(filename).read()\n",
    "    document_list.append(text_data)\n",
    "\n",
    "print(len(document_list)) # Printing number of documents in list\n",
    "\n",
    "random.choice(document_list) # Viewing a single document chosen at random"
   ]
  },
  {
   "cell_type": "code",
   "execution_count": 4,
   "metadata": {},
   "outputs": [
    {
     "data": {
      "text/plain": [
       "['i', 'me', 'my', 'myself', 'we', 'our', 'ours', 'ourselves', 'you', \"you're\"]"
      ]
     },
     "execution_count": 4,
     "metadata": {},
     "output_type": "execute_result"
    }
   ],
   "source": [
    "## Creating stop word list\n",
    "\n",
    "from nltk.corpus import stopwords\n",
    "import string\n",
    "\n",
    "stop_words = stopwords.words('english') + [\"'s\", \"'re\", '”', '“', '‘', '’', '—'] + list(string.punctuation)\n",
    "\n",
    "stop_words[:10]     ## Viewing first 10 stop words"
   ]
  },
  {
   "cell_type": "code",
   "execution_count": 5,
   "metadata": {},
   "outputs": [],
   "source": [
    "## Tokenizing, stemming, and removing stop words from our list of documents\n",
    "\n",
    "from nltk.tokenize import word_tokenize\n",
    "from nltk.stem.porter import PorterStemmer\n",
    "\n",
    "stemmer = PorterStemmer()\n",
    "\n",
    "documents_filtered = []\n",
    "\n",
    "for document in document_list:\n",
    "    token_list = word_tokenize(document.lower())                                 ## Tokenizing\n",
    "    tokens_filtered = [item for item in token_list if (item not in stop_words)]  ## Removing stop words\n",
    "    tokens_filtered = [stemmer.stem(item) for item in tokens_filtered]           ## Stemming\n",
    "    documents_filtered.append(' '.join(tokens_filtered))"
   ]
  },
  {
   "cell_type": "code",
   "execution_count": 6,
   "metadata": {},
   "outputs": [
    {
     "data": {
      "text/plain": [
       "'waymo said driverless car hit public road last month compani say whether test driverless car environ consid challeng autonom vehicl like bridg tunnel difficult condit like drive night rain snow usual big concern dri phoenix climat prospect car without emerg driver may rais concern among passeng waymo said confid safeti self-driv technolog includ backup system like secondari comput take main comput fail though car driverless entir without human least waymo employe sit back seat car monitor compani spokesman johnni luu said passeng join test abl contact waymo support staff button insid car car involv crash program respond appropri includ pull road driverless car regul patchwork state law arizona like mani state restrict oper autonom vehicl without person driver seat hand california waymo headquart requir self-driv car safeti driver sit front decemb waymo publish report california depart motor vehicl frequent car disengag deactiv autonom mode system failur safeti risk forc human driver take report waymo said happen everi 5,000 mile car drove 2016 compar everi 1,250 mile 2015. newslett sign continu read main stori pleas verifi robot click box invalid email address pleas re-ent must select newslett subscrib sign agre receiv occasion updat special offer new york time product servic thank subscrib error occur pleas tri later view new york time newslett consum watchdog frequent critic alphabet said data demonstr car readi drive without human intervent waymo follow silicon valley model beta test new technolog public wrong approach deal self-driv car said john m. simpson director consum watchdog thing go wrong robot car kill people. research believ self-driv car safer car oper human driver program adher strictli traffic law get distract usual refrain take unnecessari risk advertis continu read main stori timothi tait spokesman arizona depart transport said state pace exceed 1,000 automobile-rel fatal year top prioriti public safeti particularli advanc effort reduc crash death road close monitor emerg technolog like self-driv car may ultim support safer travel open opportun popul today unabl drive said statement waymo start research develop project googl 2009 maintain mani industri consid technolog advantag competitor waymo said autonom vehicl driven 3.4 million mile actual road safeti driver well run 10 million mile everi day virtual simul remark mr. krafcik said waymo see ride-hail taxi servic first commerci applic compani driverless car technolog though could use logist public transport take human equat fundament chang transport chang peopl buy car said mr. krafcik execut hyundai motor join googl access vehicl rather own futur could choos entir fleet vehicl option tailor trip want make said design specif purpos task'"
      ]
     },
     "execution_count": 6,
     "metadata": {},
     "output_type": "execute_result"
    }
   ],
   "source": [
    "## Viewing a preprocessed document\n",
    "\n",
    "random.choice(documents_filtered)"
   ]
  },
  {
   "cell_type": "code",
   "execution_count": 7,
   "metadata": {},
   "outputs": [],
   "source": [
    "## Vectorizing preprocessed documents\n",
    "\n",
    "from sklearn.feature_extraction.text import CountVectorizer\n",
    "\n",
    "vectorizer = CountVectorizer()\n",
    "\n",
    "X = vectorizer.fit_transform(documents_filtered) "
   ]
  },
  {
   "cell_type": "code",
   "execution_count": 8,
   "metadata": {},
   "outputs": [
    {
     "data": {
      "text/plain": [
       "['amort',\n",
       " 'amount',\n",
       " 'amped',\n",
       " 'ampl',\n",
       " 'amplif',\n",
       " 'amplifi',\n",
       " 'ampush',\n",
       " 'amsterdam',\n",
       " 'amtrak',\n",
       " 'amulet',\n",
       " 'amus',\n",
       " 'ana',\n",
       " 'anab',\n",
       " 'anal',\n",
       " 'analog',\n",
       " 'analogu',\n",
       " 'analys',\n",
       " 'analysi',\n",
       " 'analyst',\n",
       " 'analyt']"
      ]
     },
     "execution_count": 8,
     "metadata": {},
     "output_type": "execute_result"
    }
   ],
   "source": [
    "## Creating a vocabulary list corresponding to the vectors we created above\n",
    "\n",
    "vocabulary = vectorizer.get_feature_names()\n",
    "\n",
    "vocabulary[1140:1160]"
   ]
  },
  {
   "cell_type": "code",
   "execution_count": 9,
   "metadata": {},
   "outputs": [
    {
     "data": {
      "text/plain": [
       "array([1, 1, 1, 1, 1, 1, 1, 1, 1, 3, 1, 1, 1, 1, 7, 1, 1, 1, 1, 1],\n",
       "      dtype=int32)"
      ]
     },
     "execution_count": 9,
     "metadata": {},
     "output_type": "execute_result"
    }
   ],
   "source": [
    "## Clustering documents\n",
    "\n",
    "from sklearn.cluster import KMeans\n",
    "\n",
    "kmeans_classifier = KMeans(n_clusters=8, init='k-means++', n_init=10, max_iter=500, algorithm='auto')\n",
    "                                   ## ^ docuements to be grouped in 8 clusters \n",
    "\n",
    "cluster_classes = kmeans_classifier.fit_predict(X) \n",
    "\n",
    "cluster_classes[:20]               ## Viewing first 20 cluster assignments"
   ]
  },
  {
   "cell_type": "code",
   "execution_count": 10,
   "metadata": {},
   "outputs": [
    {
     "name": "stdout",
     "output_type": "stream",
     "text": [
      "451\n",
      "451\n",
      "451\n"
     ]
    }
   ],
   "source": [
    "## Our cluster assignments and document lists are the same size, in the same order.\n",
    "\n",
    "print(len(cluster_classes))\n",
    "\n",
    "print(len(documents_filtered))\n",
    "\n",
    "print(len(document_list))"
   ]
  },
  {
   "cell_type": "code",
   "execution_count": 11,
   "metadata": {},
   "outputs": [
    {
     "name": "stdout",
     "output_type": "stream",
     "text": [
      "Cluster assignment:\n",
      "1\n",
      "\n",
      "Document:\n",
      "“The one thing that I never wanted for him was to feel any type of racism where he felt like he was being targeted simply because he’s an African-American male,” Ms. Carr said.  It is unclear who took the video, which appears to have been recorded with a phone, and when. Ms. Carr said her daughter brought it to her attention on Nov. 2.  Ms. Carr asked that her son’s name not be published because he is a minor and “not the type of kid that really likes a lot of attention.” She said he told her that he had been laughing with some friends during a physics lesson, and that the teacher had gotten frustrated.  “I believe that he did like his teacher, and he believed that his teacher liked him,” she said, adding that Mr. Hagan apologized to her son.  Mr. Hagan did not respond to phone calls or an email seeking comment on Wednesday.  Ms. Carr said she contacted the Rockdale County Sheriff’s Department. A spokesman for the department said on Tuesday that a report had been filed, but he would not say whether the department was conducting an investigation of its own, referring the question to the school board.  The Rockdale County school district is investigating the episode, said Cindy Ball, a spokeswoman. “Rockdale County Public Schools expects all employees to conduct themselves professionally and ethically to provide a positive teaching and learning environment for students and staff,” she added in an emailed statement. She confirmed that Mr. Hagan was on paid administrative leave.  Advertisement Continue reading the main story  Ms. Carr is calling for Mr. Hagan to be fired.  “I hate that my son had to be the example,” she said. “But this is about awareness and fairness. We don’t send our kids to school to be threatened. We send them to be educated and protected.”\n"
     ]
    }
   ],
   "source": [
    "## We can view a document and its assigned cluster by accessing the same index in both lists\n",
    "\n",
    "index_num = 130\n",
    "\n",
    "print('Cluster assignment:')\n",
    "print(cluster_classes[index_num])\n",
    "print()\n",
    "print('Document:')\n",
    "print(document_list[index_num])"
   ]
  },
  {
   "cell_type": "code",
   "execution_count": 12,
   "metadata": {},
   "outputs": [],
   "source": [
    "## Write each document to a new text file, with each cluster of documents in its own directory\n",
    "\n",
    "try: os.mkdir('/sharedfolder/nyt_clusters_11-9-2017/')\n",
    "except: pass\n",
    "\n",
    "for i in range(len(documents_filtered)):\n",
    "    \n",
    "    out_dir = '/sharedfolder/nyt_clusters_11-9-2017/Cluster_' + str(cluster_classes[i])  ## Creating a directory pathname that\n",
    "                                                                                         ## includes the assigned cluster number.\n",
    "    try: os.mkdir(out_dir)  ## Creating the out_dir directory if it does not yet exist\n",
    "    except: pass\n",
    "    \n",
    "    os.chdir(out_dir)\n",
    "    \n",
    "    out_filename = 'Document_' + str(i) + '.txt'    ## Creating a filename for the text file\n",
    "    \n",
    "    with open(out_filename, 'w') as file_out:\n",
    "        file_out.write(document_list[i])            ## Writing text from original (non-preprocessed) document list\n"
   ]
  },
  {
   "cell_type": "code",
   "execution_count": 13,
   "metadata": {},
   "outputs": [
    {
     "data": {
      "text/plain": [
       "array([1], dtype=int32)"
      ]
     },
     "execution_count": 13,
     "metadata": {},
     "output_type": "execute_result"
    }
   ],
   "source": [
    "## Classifying a new text into an existing cluster\n",
    "\n",
    "input_vector = vectorizer.transform(['Even the budget office is revising its estimates and has predicted the new numbers would be smaller.'])\n",
    "\n",
    "kmeans_classifier.predict(input_vector)"
   ]
  },
  {
   "cell_type": "code",
   "execution_count": null,
   "metadata": {},
   "outputs": [],
   "source": []
  },
  {
   "cell_type": "markdown",
   "metadata": {},
   "source": [
    "## *Scatter Plots*"
   ]
  },
  {
   "cell_type": "code",
   "execution_count": 14,
   "metadata": {},
   "outputs": [
    {
     "data": {
      "image/png": "[encoded data removed]",
      "text/plain": [
       "<Figure size 720x504 with 1 Axes>"
      ]
     },
     "metadata": {},
     "output_type": "display_data"
    }
   ],
   "source": [
    "## A simple scatter plot example\n",
    "\n",
    "import random\n",
    "import matplotlib.pyplot as plt\n",
    "%matplotlib inline\n",
    "\n",
    "plt.rcParams['figure.figsize'] = (10, 7)  # Setting default plot size\n",
    "\n",
    "x_vals_1 = [1.92, 1.79, 1.96, 1.4, 1.61, 1.23, 1.43, 1.85, 2.07, 2.24, 2.11, 1.78, 2.21, 1.79, 1.33]\n",
    "y_vals_1 = [2.5, 2.11, 2.19, 1.6, 2.83, 2.55, 2.33, 2.09, 2.32, 2.72, 2.05, 2.4, 2.55, 2.83, 1.58]\n",
    "\n",
    "x_vals_2 = [3.63, 3.12, 3.21, 3.15, 3.56, 3.17, 3.05, 3.14, 2.87, 3.65, 2.82, 3.34, 3.7, 2.95, 3.15]\n",
    "y_vals_2 = [3.1, 4.27, 4.03, 3.37, 3.22, 3.89, 3.27, 2.64, 3.09, 4.1, 3.61, 3.74, 3.71, 3.51, 2.9]\n",
    "\n",
    "\n",
    "plt.scatter(x_vals_1, y_vals_1, label='Class 1', c='indigo', alpha=0.5)\n",
    "\n",
    "plt.scatter(x_vals_2, y_vals_2, label='Class 2', c='blue', alpha=0.5)\n",
    "\n",
    "plt.ylim(ymin=0, ymax=5)\n",
    "plt.xlim(xmin=0, xmax=5)\n",
    "\n",
    "plt.legend(loc=4)\n",
    "\n",
    "plt.show()"
   ]
  },
  {
   "cell_type": "code",
   "execution_count": 15,
   "metadata": {},
   "outputs": [
    {
     "name": "stderr",
     "output_type": "stream",
     "text": [
      "/usr/local/lib/python3.5/dist-packages/sklearn/discriminant_analysis.py:388: UserWarning: Variables are collinear.\n",
      "  warnings.warn(\"Variables are collinear.\")\n"
     ]
    },
    {
     "data": {
      "image/png": "[encoded data removed]",
      "text/plain": [
       "<Figure size 720x504 with 1 Axes>"
      ]
     },
     "metadata": {},
     "output_type": "display_data"
    }
   ],
   "source": [
    "## Projecting all vectors to 2 dimensions using linear discriminant analysis (LDA) and viewing a scatter plot\n",
    "\n",
    "from sklearn.discriminant_analysis import LinearDiscriminantAnalysis as LDA\n",
    "import pandas as pd\n",
    "import matplotlib.pyplot as plt\n",
    "%matplotlib inline\n",
    "\n",
    "plt.rcParams['figure.figsize'] = (10, 7)  # Setting default plot size\n",
    "\n",
    "lda = LDA(n_components=2) #2-dimensional LDA\n",
    "\n",
    "y = cluster_classes\n",
    "\n",
    "lda_transformed = pd.DataFrame(lda.fit_transform(X.toarray(), y))\n",
    "\n",
    "lda_transformed['y'] = y\n",
    "\n",
    "plt.scatter(lda_transformed[lda_transformed['y']==0][0], lda_transformed[lda_transformed['y']==0][1], label='0', c='blue', alpha=0.4)\n",
    "plt.scatter(lda_transformed[lda_transformed['y']==1][0], lda_transformed[lda_transformed['y']==1][1], label='1', c='green', alpha=0.4)\n",
    "plt.scatter(lda_transformed[lda_transformed['y']==2][0], lda_transformed[lda_transformed['y']==2][1], label='2', c='red', alpha=0.4)\n",
    "plt.scatter(lda_transformed[lda_transformed['y']==3][0], lda_transformed[lda_transformed['y']==3][1], label='3', c='violet', alpha=0.4)\n",
    "plt.scatter(lda_transformed[lda_transformed['y']==4][0], lda_transformed[lda_transformed['y']==4][1], label='4', c='orange', alpha=0.4)\n",
    "plt.scatter(lda_transformed[lda_transformed['y']==5][0], lda_transformed[lda_transformed['y']==5][1], label='5', c='magenta', alpha=0.4)\n",
    "plt.scatter(lda_transformed[lda_transformed['y']==6][0], lda_transformed[lda_transformed['y']==6][1], label='6', c='black', alpha=0.4)\n",
    "plt.scatter(lda_transformed[lda_transformed['y']==7][0], lda_transformed[lda_transformed['y']==7][1], label='7', c='indigo', alpha=0.4)\n",
    "\n",
    "plt.legend(loc=2)\n",
    "\n",
    "plt.show()"
   ]
  },
  {
   "cell_type": "code",
   "execution_count": 16,
   "metadata": {},
   "outputs": [
    {
     "data": {
      "image/png": "[encoded data removed]",
      "text/plain": [
       "<Figure size 720x504 with 1 Axes>"
      ]
     },
     "metadata": {},
     "output_type": "display_data"
    }
   ],
   "source": [
    "## Projecting all vectors to 2 dimensions using principal component analysis (PCA) and viewing a scatter plot\n",
    "\n",
    "from sklearn.decomposition import PCA\n",
    "import matplotlib.pyplot as plt\n",
    "%matplotlib inline\n",
    "\n",
    "plt.rcParams['figure.figsize'] = (10, 7)  # Setting default plot size\n",
    "\n",
    "pca = PCA(n_components=2) #2-dimensional LDA\n",
    "\n",
    "pca_transformed = pca.fit_transform(X.toarray())\n",
    "\n",
    "plt.scatter([pair[0] for pair in pca_transformed], [pair[1] for pair in pca_transformed], label='0', c='blue', alpha=0.4)\n",
    "\n",
    "plt.legend(loc=2)\n",
    "\n",
    "plt.show()"
   ]
  },
  {
   "cell_type": "code",
   "execution_count": null,
   "metadata": {},
   "outputs": [],
   "source": []
  },
  {
   "cell_type": "code",
   "execution_count": null,
   "metadata": {},
   "outputs": [],
   "source": []
  },
  {
   "cell_type": "code",
   "execution_count": null,
   "metadata": {},
   "outputs": [],
   "source": []
  },
  {
   "cell_type": "code",
   "execution_count": null,
   "metadata": {},
   "outputs": [],
   "source": []
  },
  {
   "cell_type": "markdown",
   "metadata": {},
   "source": [
    "### *Clustering in topic space*"
   ]
  },
  {
   "cell_type": "code",
   "execution_count": 17,
   "metadata": {},
   "outputs": [],
   "source": [
    "%%capture\n",
    "!pip3 install lda"
   ]
  },
  {
   "cell_type": "code",
   "execution_count": 18,
   "metadata": {},
   "outputs": [
    {
     "name": "stderr",
     "output_type": "stream",
     "text": [
      "INFO:lda:n_documents: 451\n",
      "INFO:lda:vocab_size: 18081\n",
      "INFO:lda:n_words: 215424\n",
      "INFO:lda:n_topics: 8\n",
      "INFO:lda:n_iter: 1000\n",
      "WARNING:lda:all zero row in document-term matrix found\n",
      "/usr/local/lib/python3.5/dist-packages/lda/utils.py:55: FutureWarning: Conversion of the second argument of issubdtype from `int` to `np.signedinteger` is deprecated. In future, it will be treated as `np.int64 == np.dtype(int).type`.\n",
      "  if sparse and not np.issubdtype(doc_word.dtype, int):\n",
      "INFO:lda:<0> log likelihood: -2392150\n",
      "INFO:lda:<10> log likelihood: -2010293\n",
      "INFO:lda:<20> log likelihood: -1948442\n",
      "INFO:lda:<30> log likelihood: -1925674\n",
      "INFO:lda:<40> log likelihood: -1914371\n",
      "INFO:lda:<50> log likelihood: -1907985\n",
      "INFO:lda:<60> log likelihood: -1903253\n",
      "INFO:lda:<70> log likelihood: -1899718\n",
      "INFO:lda:<80> log likelihood: -1895564\n",
      "INFO:lda:<90> log likelihood: -1893771\n",
      "INFO:lda:<100> log likelihood: -1891792\n",
      "INFO:lda:<110> log likelihood: -1889685\n",
      "INFO:lda:<120> log likelihood: -1888043\n",
      "INFO:lda:<130> log likelihood: -1886528\n",
      "INFO:lda:<140> log likelihood: -1885058\n",
      "INFO:lda:<150> log likelihood: -1882921\n",
      "INFO:lda:<160> log likelihood: -1881833\n",
      "INFO:lda:<170> log likelihood: -1879495\n",
      "INFO:lda:<180> log likelihood: -1879867\n",
      "INFO:lda:<190> log likelihood: -1879003\n",
      "INFO:lda:<200> log likelihood: -1878972\n",
      "INFO:lda:<210> log likelihood: -1877228\n",
      "INFO:lda:<220> log likelihood: -1876773\n",
      "INFO:lda:<230> log likelihood: -1875763\n",
      "INFO:lda:<240> log likelihood: -1875822\n",
      "INFO:lda:<250> log likelihood: -1875127\n",
      "INFO:lda:<260> log likelihood: -1874384\n",
      "INFO:lda:<270> log likelihood: -1873802\n",
      "INFO:lda:<280> log likelihood: -1874508\n",
      "INFO:lda:<290> log likelihood: -1873037\n",
      "INFO:lda:<300> log likelihood: -1871362\n",
      "INFO:lda:<310> log likelihood: -1871937\n",
      "INFO:lda:<320> log likelihood: -1871293\n",
      "INFO:lda:<330> log likelihood: -1870322\n",
      "INFO:lda:<340> log likelihood: -1869078\n",
      "INFO:lda:<350> log likelihood: -1868463\n",
      "INFO:lda:<360> log likelihood: -1868342\n",
      "INFO:lda:<370> log likelihood: -1868269\n",
      "INFO:lda:<380> log likelihood: -1867604\n",
      "INFO:lda:<390> log likelihood: -1866884\n",
      "INFO:lda:<400> log likelihood: -1866941\n",
      "INFO:lda:<410> log likelihood: -1868038\n",
      "INFO:lda:<420> log likelihood: -1867410\n",
      "INFO:lda:<430> log likelihood: -1865951\n",
      "INFO:lda:<440> log likelihood: -1866071\n",
      "INFO:lda:<450> log likelihood: -1865785\n",
      "INFO:lda:<460> log likelihood: -1866574\n",
      "INFO:lda:<470> log likelihood: -1866899\n",
      "INFO:lda:<480> log likelihood: -1866018\n",
      "INFO:lda:<490> log likelihood: -1865645\n",
      "INFO:lda:<500> log likelihood: -1865728\n",
      "INFO:lda:<510> log likelihood: -1865291\n",
      "INFO:lda:<520> log likelihood: -1864785\n",
      "INFO:lda:<530> log likelihood: -1864391\n",
      "INFO:lda:<540> log likelihood: -1865001\n",
      "INFO:lda:<550> log likelihood: -1865425\n",
      "INFO:lda:<560> log likelihood: -1864869\n",
      "INFO:lda:<570> log likelihood: -1864744\n",
      "INFO:lda:<580> log likelihood: -1864501\n",
      "INFO:lda:<590> log likelihood: -1864804\n",
      "INFO:lda:<600> log likelihood: -1864213\n",
      "INFO:lda:<610> log likelihood: -1864234\n",
      "INFO:lda:<620> log likelihood: -1864336\n",
      "INFO:lda:<630> log likelihood: -1863167\n",
      "INFO:lda:<640> log likelihood: -1863732\n",
      "INFO:lda:<650> log likelihood: -1864442\n",
      "INFO:lda:<660> log likelihood: -1863424\n",
      "INFO:lda:<670> log likelihood: -1863579\n",
      "INFO:lda:<680> log likelihood: -1862919\n",
      "INFO:lda:<690> log likelihood: -1862703\n",
      "INFO:lda:<700> log likelihood: -1862689\n",
      "INFO:lda:<710> log likelihood: -1862568\n",
      "INFO:lda:<720> log likelihood: -1861909\n",
      "INFO:lda:<730> log likelihood: -1861648\n",
      "INFO:lda:<740> log likelihood: -1862415\n",
      "INFO:lda:<750> log likelihood: -1862458\n",
      "INFO:lda:<760> log likelihood: -1863343\n",
      "INFO:lda:<770> log likelihood: -1862676\n",
      "INFO:lda:<780> log likelihood: -1862437\n",
      "INFO:lda:<790> log likelihood: -1862320\n",
      "INFO:lda:<800> log likelihood: -1862572\n",
      "INFO:lda:<810> log likelihood: -1862587\n",
      "INFO:lda:<820> log likelihood: -1862674\n",
      "INFO:lda:<830> log likelihood: -1862837\n",
      "INFO:lda:<840> log likelihood: -1863155\n",
      "INFO:lda:<850> log likelihood: -1863150\n",
      "INFO:lda:<860> log likelihood: -1862967\n",
      "INFO:lda:<870> log likelihood: -1863307\n",
      "INFO:lda:<880> log likelihood: -1863187\n",
      "INFO:lda:<890> log likelihood: -1864911\n",
      "INFO:lda:<900> log likelihood: -1862472\n",
      "INFO:lda:<910> log likelihood: -1862973\n",
      "INFO:lda:<920> log likelihood: -1862321\n",
      "INFO:lda:<930> log likelihood: -1862542\n",
      "INFO:lda:<940> log likelihood: -1862740\n",
      "INFO:lda:<950> log likelihood: -1863507\n",
      "INFO:lda:<960> log likelihood: -1863563\n",
      "INFO:lda:<970> log likelihood: -1862757\n",
      "INFO:lda:<980> log likelihood: -1862492\n",
      "INFO:lda:<990> log likelihood: -1862420\n",
      "INFO:lda:<999> log likelihood: -1862192\n"
     ]
    },
    {
     "data": {
      "text/plain": [
       "<lda.lda.LDA at 0x7fb6fca39470>"
      ]
     },
     "execution_count": 18,
     "metadata": {},
     "output_type": "execute_result"
    }
   ],
   "source": [
    "import lda\n",
    "\n",
    "model = lda.LDA(n_topics=8, n_iter=1000, random_state=1)\n",
    "\n",
    "model.fit(X)"
   ]
  },
  {
   "cell_type": "code",
   "execution_count": 19,
   "metadata": {},
   "outputs": [
    {
     "name": "stdout",
     "output_type": "stream",
     "text": [
      "451\n"
     ]
    },
    {
     "data": {
      "text/plain": [
       "array([[9.63391137e-04, 5.87668593e-02, 1.55105973e-01, 1.05973025e-02,\n",
       "        9.63391137e-04, 5.11560694e-01, 2.61078998e-01, 9.63391137e-04],\n",
       "       [7.72021812e-01, 6.10318792e-02, 2.09731544e-04, 6.10318792e-02,\n",
       "        1.06963087e-02, 8.20050336e-02, 2.30704698e-03, 1.06963087e-02]])"
      ]
     },
     "execution_count": 19,
     "metadata": {},
     "output_type": "execute_result"
    }
   ],
   "source": [
    "topic_features = model.doc_topic_\n",
    "\n",
    "print(len(topic_features))\n",
    "\n",
    "topic_features[:2]"
   ]
  },
  {
   "cell_type": "code",
   "execution_count": 20,
   "metadata": {},
   "outputs": [
    {
     "name": "stdout",
     "output_type": "stream",
     "text": [
      "451\n"
     ]
    },
    {
     "data": {
      "text/plain": [
       "array([5, 1, 3, 2, 5, 7, 1, 2, 6, 3, 1, 2, 5, 0, 4, 0, 6, 0, 2, 0],\n",
       "      dtype=int32)"
      ]
     },
     "execution_count": 20,
     "metadata": {},
     "output_type": "execute_result"
    }
   ],
   "source": [
    "## Clustering documents using topic vectors (instead of vocabulary vectors, which we used above)\n",
    "\n",
    "from sklearn.cluster import KMeans\n",
    "\n",
    "kmeans_topic_classifier = KMeans(n_clusters=8, init='k-means++', n_init=15, max_iter=1000, algorithm='auto')\n",
    "                                         ## ^ docuements to be grouped in 8 clusters \n",
    "\n",
    "topic_cluster_classes = kmeans_topic_classifier.fit_predict(topic_features) \n",
    "\n",
    "print(len(topic_cluster_classes))\n",
    "\n",
    "topic_cluster_classes[:20]               ## Viewing first 20 cluster assignments"
   ]
  },
  {
   "cell_type": "code",
   "execution_count": 21,
   "metadata": {},
   "outputs": [],
   "source": [
    "## Write each document to a new text file, with each cluster of documents in its own directory\n",
    "\n",
    "try: os.mkdir('/sharedfolder/nyt_topic_clusters_11-9-2017/')\n",
    "except: pass\n",
    "\n",
    "for i in range(len(documents_filtered)):\n",
    "    \n",
    "    out_dir = '/sharedfolder/nyt_topic_clusters_11-9-2017/Cluster_' + str(topic_cluster_classes[i])  ## Creating a directory pathname that\n",
    "                                                                                         ## includes the assigned cluster number.\n",
    "    try: os.mkdir(out_dir)  ## Creating the out_dir directory if it does not yet exist\n",
    "    except: pass\n",
    "    \n",
    "    os.chdir(out_dir)\n",
    "    \n",
    "    out_filename = 'Document_' + str(i) + '.txt'    ## Creating a filename for the text file\n",
    "    \n",
    "    with open(out_filename, 'w') as file_out:\n",
    "        file_out.write(document_list[i])            ## Writing text from original (non-preprocessed) document list\n"
   ]
  },
  {
   "cell_type": "code",
   "execution_count": 22,
   "metadata": {},
   "outputs": [
    {
     "name": "stderr",
     "output_type": "stream",
     "text": [
      "/usr/local/lib/python3.5/dist-packages/sklearn/discriminant_analysis.py:388: UserWarning: Variables are collinear.\n",
      "  warnings.warn(\"Variables are collinear.\")\n"
     ]
    },
    {
     "data": {
      "image/png": "[encoded data removed]",
      "text/plain": [
       "<Figure size 720x504 with 1 Axes>"
      ]
     },
     "metadata": {},
     "output_type": "display_data"
    }
   ],
   "source": [
    "## Projecting all topic vectors to 2 dimensions using linear discriminant analysis (LDA) and viewing a scatter plot\n",
    "\n",
    "from sklearn.discriminant_analysis import LinearDiscriminantAnalysis as LDA\n",
    "import pandas as pd\n",
    "import matplotlib.pyplot as plt\n",
    "%matplotlib inline\n",
    "\n",
    "plt.rcParams['figure.figsize'] = (10, 7)  # Setting default plot size\n",
    "\n",
    "lda = LDA(n_components=2) #2-dimensional LDA\n",
    "\n",
    "y = topic_cluster_classes\n",
    "\n",
    "lda_transformed = pd.DataFrame(lda.fit_transform(topic_features, y))\n",
    "\n",
    "lda_transformed['y'] = y\n",
    "\n",
    "plt.scatter(lda_transformed[lda_transformed['y']==0][0], lda_transformed[lda_transformed['y']==0][1], label='0', c='blue', alpha=0.4)\n",
    "plt.scatter(lda_transformed[lda_transformed['y']==1][0], lda_transformed[lda_transformed['y']==1][1], label='1', c='green', alpha=0.4)\n",
    "plt.scatter(lda_transformed[lda_transformed['y']==2][0], lda_transformed[lda_transformed['y']==2][1], label='2', c='red', alpha=0.4)\n",
    "plt.scatter(lda_transformed[lda_transformed['y']==3][0], lda_transformed[lda_transformed['y']==3][1], label='3', c='violet', alpha=0.4)\n",
    "plt.scatter(lda_transformed[lda_transformed['y']==4][0], lda_transformed[lda_transformed['y']==4][1], label='4', c='yellow', alpha=0.4)\n",
    "plt.scatter(lda_transformed[lda_transformed['y']==5][0], lda_transformed[lda_transformed['y']==5][1], label='5', c='magenta', alpha=0.4)\n",
    "plt.scatter(lda_transformed[lda_transformed['y']==6][0], lda_transformed[lda_transformed['y']==6][1], label='6', c='black', alpha=0.4)\n",
    "plt.scatter(lda_transformed[lda_transformed['y']==7][0], lda_transformed[lda_transformed['y']==7][1], label='7', c='orange', alpha=0.4)\n",
    "plt.scatter(lda_transformed[lda_transformed['y']==8][0], lda_transformed[lda_transformed['y']==8][1], label='8', c='indigo', alpha=0.4)\n",
    "plt.scatter(lda_transformed[lda_transformed['y']==9][0], lda_transformed[lda_transformed['y']==9][1], label='9', c='purple', alpha=0.4)\n",
    "\n",
    "plt.legend(loc=2)\n",
    "\n",
    "plt.show()"
   ]
  },
  {
   "cell_type": "code",
   "execution_count": 23,
   "metadata": {},
   "outputs": [
    {
     "name": "stdout",
     "output_type": "stream",
     "text": [
      "Topic cluster: 0\n",
      "[('said', 492),\n",
      " ('mr.', 468),\n",
      " ('time', 304),\n",
      " ('new', 297),\n",
      " ('newslett', 251),\n",
      " ('pleas', 234),\n",
      " ('continu', 214),\n",
      " ('main', 204),\n",
      " ('stori', 204),\n",
      " ('state', 199),\n",
      " ('york', 198),\n",
      " ('sign', 197),\n",
      " ('read', 195),\n",
      " ('would', 167),\n",
      " ('subscrib', 164),\n",
      " ('one', 163),\n",
      " ('trump', 158),\n",
      " ('peopl', 146),\n",
      " ('report', 140),\n",
      " ('year', 136),\n",
      " ('like', 133),\n",
      " ('also', 127),\n",
      " ('advertis', 120),\n",
      " ('unit', 118),\n",
      " ('american', 116)]\n",
      "\n",
      "Topic cluster: 1\n",
      "[('new', 414),\n",
      " ('said', 305),\n",
      " ('york', 286),\n",
      " ('time', 265),\n",
      " ('newslett', 231),\n",
      " ('pleas', 192),\n",
      " ('sign', 163),\n",
      " ('read', 154),\n",
      " ('main', 153),\n",
      " ('stori', 148),\n",
      " ('continu', 144),\n",
      " ('subscrib', 139),\n",
      " ('one', 128),\n",
      " ('mr.', 126),\n",
      " ('year', 124),\n",
      " ('like', 120),\n",
      " ('park', 116),\n",
      " ('offer', 107),\n",
      " ('get', 105),\n",
      " ('ms.', 102),\n",
      " ('travel', 96),\n",
      " ('view', 96),\n",
      " ('hous', 93),\n",
      " ('advertis', 92),\n",
      " ('servic', 91)]\n",
      "\n",
      "Topic cluster: 2\n",
      "[('said', 456),\n",
      " ('mr.', 400),\n",
      " ('like', 380),\n",
      " ('time', 342),\n",
      " ('new', 297),\n",
      " ('one', 295),\n",
      " ('stori', 246),\n",
      " ('ms.', 221),\n",
      " ('read', 207),\n",
      " ('york', 197),\n",
      " ('continu', 186),\n",
      " ('newslett', 179),\n",
      " ('say', 176),\n",
      " ('year', 176),\n",
      " ('would', 174),\n",
      " ('get', 173),\n",
      " ('work', 169),\n",
      " ('photo', 169),\n",
      " ('main', 166),\n",
      " ('pleas', 165),\n",
      " ('peopl', 161),\n",
      " ('also', 154),\n",
      " ('look', 153),\n",
      " ('go', 148),\n",
      " ('tri', 145)]\n",
      "\n",
      "Topic cluster: 3\n",
      "[('democrat', 228),\n",
      " ('said', 174),\n",
      " ('new', 156),\n",
      " ('mr.', 154),\n",
      " ('republican', 154),\n",
      " ('time', 122),\n",
      " ('trump', 118),\n",
      " ('elect', 115),\n",
      " ('year', 113),\n",
      " ('continu', 112),\n",
      " ('state', 105),\n",
      " ('main', 104),\n",
      " ('stori', 101),\n",
      " ('one', 100),\n",
      " ('read', 98),\n",
      " ('17', 96),\n",
      " ('presid', 89),\n",
      " ('game', 87),\n",
      " ('would', 87),\n",
      " ('newslett', 85),\n",
      " ('candid', 82),\n",
      " ('york', 82),\n",
      " ('like', 81),\n",
      " ('pleas', 81),\n",
      " ('parti', 80)]\n",
      "\n",
      "Topic cluster: 4\n",
      "[('servic', 139),\n",
      " ('inform', 139),\n",
      " ('time', 117),\n",
      " ('use', 114),\n",
      " ('may', 99),\n",
      " ('new', 88),\n",
      " ('york', 78),\n",
      " ('nytimes.com', 63),\n",
      " ('includ', 60),\n",
      " ('subscript', 60),\n",
      " ('access', 58),\n",
      " ('email', 58),\n",
      " ('us', 51),\n",
      " ('nyt', 49),\n",
      " ('pleas', 47),\n",
      " ('product', 46),\n",
      " ('account', 46),\n",
      " ('digit', 45),\n",
      " ('parti', 44),\n",
      " ('third', 41),\n",
      " ('person', 41),\n",
      " ('content', 39),\n",
      " ('provid', 39),\n",
      " ('cancel', 37),\n",
      " ('collect', 35)]\n",
      "\n",
      "Topic cluster: 5\n",
      "[('tax', 225),\n",
      " ('said', 206),\n",
      " ('compani', 143),\n",
      " ('would', 138),\n",
      " ('new', 124),\n",
      " ('year', 111),\n",
      " ('time', 110),\n",
      " ('mr.', 101),\n",
      " ('continu', 93),\n",
      " ('colleg', 92),\n",
      " ('main', 88),\n",
      " ('like', 84),\n",
      " ('read', 84),\n",
      " ('newslett', 83),\n",
      " ('stori', 80),\n",
      " ('also', 78),\n",
      " ('pleas', 78),\n",
      " ('could', 76),\n",
      " ('bill', 76),\n",
      " ('percent', 74),\n",
      " ('plan', 73),\n",
      " ('invest', 73),\n",
      " ('york', 68),\n",
      " ('sign', 68),\n",
      " ('state', 67)]\n",
      "\n",
      "Topic cluster: 6\n",
      "[('car', 371),\n",
      " ('compani', 176),\n",
      " ('like', 166),\n",
      " ('said', 161),\n",
      " ('new', 146),\n",
      " ('one', 145),\n",
      " ('would', 140),\n",
      " ('time', 135),\n",
      " ('could', 128),\n",
      " ('vehicl', 127),\n",
      " ('tesla', 122),\n",
      " ('use', 112),\n",
      " ('self-driv', 109),\n",
      " ('ad', 108),\n",
      " ('year', 108),\n",
      " ('make', 104),\n",
      " ('facebook', 97),\n",
      " ('peopl', 96),\n",
      " ('technolog', 96),\n",
      " ('say', 91),\n",
      " ('autonom', 86),\n",
      " ('go', 81),\n",
      " ('also', 80),\n",
      " ('driver', 79),\n",
      " ('even', 78)]\n",
      "\n",
      "Topic cluster: 7\n",
      "[('new', 106),\n",
      " ('like', 91),\n",
      " ('time', 90),\n",
      " ('one', 88),\n",
      " ('wine', 84),\n",
      " ('mr.', 77),\n",
      " ('read', 66),\n",
      " ('said', 64),\n",
      " ('stori', 63),\n",
      " ('cook', 61),\n",
      " ('continu', 58),\n",
      " ('york', 58),\n",
      " ('main', 57),\n",
      " ('newslett', 56),\n",
      " ('pleas', 52),\n",
      " ('year', 51),\n",
      " ('make', 50),\n",
      " ('photo', 50),\n",
      " ('recip', 50),\n",
      " ('sign', 49),\n",
      " ('advertis', 45),\n",
      " ('restaur', 44),\n",
      " ('franc', 44),\n",
      " ('work', 43),\n",
      " ('tri', 41)]\n",
      "\n"
     ]
    }
   ],
   "source": [
    "## Viewing the most frequently used words in each topic cluster\n",
    "\n",
    "import collections\n",
    "from pprint import pprint\n",
    "\n",
    "\n",
    "for topic_cluster_id in range(8):\n",
    "    \n",
    "    print('Topic cluster: ' + str(topic_cluster_id))    \n",
    "    \n",
    "    words = []\n",
    "    \n",
    "    for i in range(len(documents_filtered)):\n",
    "        if topic_cluster_classes[i] == topic_cluster_id:\n",
    "            words += documents_filtered[i].split(' ')\n",
    "\n",
    "    counter = collections.Counter(words)\n",
    "    pprint(counter.most_common()[:25])\n",
    "    print()\n"
   ]
  },
  {
   "cell_type": "code",
   "execution_count": null,
   "metadata": {},
   "outputs": [],
   "source": []
  },
  {
   "cell_type": "code",
   "execution_count": null,
   "metadata": {},
   "outputs": [],
   "source": []
  },
  {
   "cell_type": "code",
   "execution_count": 25,
   "metadata": {},
   "outputs": [],
   "source": [
    "#!pip3 install gensim"
   ]
  },
  {
   "cell_type": "code",
   "execution_count": 26,
   "metadata": {},
   "outputs": [
    {
     "name": "stderr",
     "output_type": "stream",
     "text": [
      "INFO:summarizer.preprocessing.cleaner:'pattern' package not found; tag filters are not available for English\n",
      "INFO:gensim.models.word2vec:collecting all words and their counts\n"
     ]
    },
    {
     "ename": "FileNotFoundError",
     "evalue": "[Errno 2] No such file or directory: 'text8'",
     "output_type": "error",
     "traceback": [
      "\u001b[0;31m---------------------------------------------------------------------------\u001b[0m",
      "\u001b[0;31mFileNotFoundError\u001b[0m                         Traceback (most recent call last)",
      "\u001b[0;32m<ipython-input-26-71d6eb06df39>\u001b[0m in \u001b[0;36m<module>\u001b[0;34m()\u001b[0m\n\u001b[1;32m      7\u001b[0m \u001b[0msentences\u001b[0m \u001b[0;34m=\u001b[0m \u001b[0mword2vec\u001b[0m\u001b[0;34m.\u001b[0m\u001b[0mText8Corpus\u001b[0m\u001b[0;34m(\u001b[0m\u001b[0;34m'text8'\u001b[0m\u001b[0;34m)\u001b[0m\u001b[0;34m\u001b[0m\u001b[0m\n\u001b[1;32m      8\u001b[0m \u001b[0;34m\u001b[0m\u001b[0m\n\u001b[0;32m----> 9\u001b[0;31m \u001b[0mmodel\u001b[0m \u001b[0;34m=\u001b[0m \u001b[0mword2vec\u001b[0m\u001b[0;34m.\u001b[0m\u001b[0mWord2Vec\u001b[0m\u001b[0;34m(\u001b[0m\u001b[0msentences\u001b[0m\u001b[0;34m,\u001b[0m \u001b[0msize\u001b[0m\u001b[0;34m=\u001b[0m\u001b[0;36m200\u001b[0m\u001b[0;34m)\u001b[0m\u001b[0;34m\u001b[0m\u001b[0m\n\u001b[0m",
      "\u001b[0;32m/usr/local/lib/python3.5/dist-packages/gensim/models/word2vec.py\u001b[0m in \u001b[0;36m__init__\u001b[0;34m(self, sentences, size, alpha, window, min_count, max_vocab_size, sample, seed, workers, min_alpha, sg, hs, negative, cbow_mean, hashfxn, iter, null_word, trim_rule, sorted_vocab, batch_words, compute_loss, callbacks)\u001b[0m\n\u001b[1;32m    525\u001b[0m             \u001b[0mbatch_words\u001b[0m\u001b[0;34m=\u001b[0m\u001b[0mbatch_words\u001b[0m\u001b[0;34m,\u001b[0m \u001b[0mtrim_rule\u001b[0m\u001b[0;34m=\u001b[0m\u001b[0mtrim_rule\u001b[0m\u001b[0;34m,\u001b[0m \u001b[0msg\u001b[0m\u001b[0;34m=\u001b[0m\u001b[0msg\u001b[0m\u001b[0;34m,\u001b[0m \u001b[0malpha\u001b[0m\u001b[0;34m=\u001b[0m\u001b[0malpha\u001b[0m\u001b[0;34m,\u001b[0m \u001b[0mwindow\u001b[0m\u001b[0;34m=\u001b[0m\u001b[0mwindow\u001b[0m\u001b[0;34m,\u001b[0m \u001b[0mseed\u001b[0m\u001b[0;34m=\u001b[0m\u001b[0mseed\u001b[0m\u001b[0;34m,\u001b[0m\u001b[0;34m\u001b[0m\u001b[0m\n\u001b[1;32m    526\u001b[0m             \u001b[0mhs\u001b[0m\u001b[0;34m=\u001b[0m\u001b[0mhs\u001b[0m\u001b[0;34m,\u001b[0m \u001b[0mnegative\u001b[0m\u001b[0;34m=\u001b[0m\u001b[0mnegative\u001b[0m\u001b[0;34m,\u001b[0m \u001b[0mcbow_mean\u001b[0m\u001b[0;34m=\u001b[0m\u001b[0mcbow_mean\u001b[0m\u001b[0;34m,\u001b[0m \u001b[0mmin_alpha\u001b[0m\u001b[0;34m=\u001b[0m\u001b[0mmin_alpha\u001b[0m\u001b[0;34m,\u001b[0m \u001b[0mcompute_loss\u001b[0m\u001b[0;34m=\u001b[0m\u001b[0mcompute_loss\u001b[0m\u001b[0;34m,\u001b[0m\u001b[0;34m\u001b[0m\u001b[0m\n\u001b[0;32m--> 527\u001b[0;31m             fast_version=FAST_VERSION)\n\u001b[0m\u001b[1;32m    528\u001b[0m \u001b[0;34m\u001b[0m\u001b[0m\n\u001b[1;32m    529\u001b[0m     \u001b[0;32mdef\u001b[0m \u001b[0m_do_train_job\u001b[0m\u001b[0;34m(\u001b[0m\u001b[0mself\u001b[0m\u001b[0;34m,\u001b[0m \u001b[0msentences\u001b[0m\u001b[0;34m,\u001b[0m \u001b[0malpha\u001b[0m\u001b[0;34m,\u001b[0m \u001b[0minits\u001b[0m\u001b[0;34m)\u001b[0m\u001b[0;34m:\u001b[0m\u001b[0;34m\u001b[0m\u001b[0m\n",
      "\u001b[0;32m/usr/local/lib/python3.5/dist-packages/gensim/models/base_any2vec.py\u001b[0m in \u001b[0;36m__init__\u001b[0;34m(self, sentences, workers, vector_size, epochs, callbacks, batch_words, trim_rule, sg, alpha, window, seed, hs, negative, cbow_mean, min_alpha, compute_loss, fast_version, **kwargs)\u001b[0m\n\u001b[1;32m    333\u001b[0m             \u001b[0;32mif\u001b[0m \u001b[0misinstance\u001b[0m\u001b[0;34m(\u001b[0m\u001b[0msentences\u001b[0m\u001b[0;34m,\u001b[0m \u001b[0mGeneratorType\u001b[0m\u001b[0;34m)\u001b[0m\u001b[0;34m:\u001b[0m\u001b[0;34m\u001b[0m\u001b[0m\n\u001b[1;32m    334\u001b[0m                 \u001b[0;32mraise\u001b[0m \u001b[0mTypeError\u001b[0m\u001b[0;34m(\u001b[0m\u001b[0;34m\"You can't pass a generator as the sentences argument. Try an iterator.\"\u001b[0m\u001b[0;34m)\u001b[0m\u001b[0;34m\u001b[0m\u001b[0m\n\u001b[0;32m--> 335\u001b[0;31m             \u001b[0mself\u001b[0m\u001b[0;34m.\u001b[0m\u001b[0mbuild_vocab\u001b[0m\u001b[0;34m(\u001b[0m\u001b[0msentences\u001b[0m\u001b[0;34m,\u001b[0m \u001b[0mtrim_rule\u001b[0m\u001b[0;34m=\u001b[0m\u001b[0mtrim_rule\u001b[0m\u001b[0;34m)\u001b[0m\u001b[0;34m\u001b[0m\u001b[0m\n\u001b[0m\u001b[1;32m    336\u001b[0m             self.train(\n\u001b[1;32m    337\u001b[0m                 \u001b[0msentences\u001b[0m\u001b[0;34m,\u001b[0m \u001b[0mtotal_examples\u001b[0m\u001b[0;34m=\u001b[0m\u001b[0mself\u001b[0m\u001b[0;34m.\u001b[0m\u001b[0mcorpus_count\u001b[0m\u001b[0;34m,\u001b[0m \u001b[0mepochs\u001b[0m\u001b[0;34m=\u001b[0m\u001b[0mself\u001b[0m\u001b[0;34m.\u001b[0m\u001b[0mepochs\u001b[0m\u001b[0;34m,\u001b[0m \u001b[0mstart_alpha\u001b[0m\u001b[0;34m=\u001b[0m\u001b[0mself\u001b[0m\u001b[0;34m.\u001b[0m\u001b[0malpha\u001b[0m\u001b[0;34m,\u001b[0m\u001b[0;34m\u001b[0m\u001b[0m\n",
      "\u001b[0;32m/usr/local/lib/python3.5/dist-packages/gensim/models/base_any2vec.py\u001b[0m in \u001b[0;36mbuild_vocab\u001b[0;34m(self, sentences, update, progress_per, keep_raw_vocab, trim_rule, **kwargs)\u001b[0m\n\u001b[1;32m    478\u001b[0m         \"\"\"\n\u001b[1;32m    479\u001b[0m         total_words, corpus_count = self.vocabulary.scan_vocab(\n\u001b[0;32m--> 480\u001b[0;31m             sentences, progress_per=progress_per, trim_rule=trim_rule)\n\u001b[0m\u001b[1;32m    481\u001b[0m         \u001b[0mself\u001b[0m\u001b[0;34m.\u001b[0m\u001b[0mcorpus_count\u001b[0m \u001b[0;34m=\u001b[0m \u001b[0mcorpus_count\u001b[0m\u001b[0;34m\u001b[0m\u001b[0m\n\u001b[1;32m    482\u001b[0m         report_values = self.vocabulary.prepare_vocab(\n",
      "\u001b[0;32m/usr/local/lib/python3.5/dist-packages/gensim/models/word2vec.py\u001b[0m in \u001b[0;36mscan_vocab\u001b[0;34m(self, sentences, progress_per, trim_rule)\u001b[0m\n\u001b[1;32m   1149\u001b[0m         \u001b[0mvocab\u001b[0m \u001b[0;34m=\u001b[0m \u001b[0mdefaultdict\u001b[0m\u001b[0;34m(\u001b[0m\u001b[0mint\u001b[0m\u001b[0;34m)\u001b[0m\u001b[0;34m\u001b[0m\u001b[0m\n\u001b[1;32m   1150\u001b[0m         \u001b[0mchecked_string_types\u001b[0m \u001b[0;34m=\u001b[0m \u001b[0;36m0\u001b[0m\u001b[0;34m\u001b[0m\u001b[0m\n\u001b[0;32m-> 1151\u001b[0;31m         \u001b[0;32mfor\u001b[0m \u001b[0msentence_no\u001b[0m\u001b[0;34m,\u001b[0m \u001b[0msentence\u001b[0m \u001b[0;32min\u001b[0m \u001b[0menumerate\u001b[0m\u001b[0;34m(\u001b[0m\u001b[0msentences\u001b[0m\u001b[0;34m)\u001b[0m\u001b[0;34m:\u001b[0m\u001b[0;34m\u001b[0m\u001b[0m\n\u001b[0m\u001b[1;32m   1152\u001b[0m             \u001b[0;32mif\u001b[0m \u001b[0;32mnot\u001b[0m \u001b[0mchecked_string_types\u001b[0m\u001b[0;34m:\u001b[0m\u001b[0;34m\u001b[0m\u001b[0m\n\u001b[1;32m   1153\u001b[0m                 \u001b[0;32mif\u001b[0m \u001b[0misinstance\u001b[0m\u001b[0;34m(\u001b[0m\u001b[0msentence\u001b[0m\u001b[0;34m,\u001b[0m \u001b[0mstring_types\u001b[0m\u001b[0;34m)\u001b[0m\u001b[0;34m:\u001b[0m\u001b[0;34m\u001b[0m\u001b[0m\n",
      "\u001b[0;32m/usr/local/lib/python3.5/dist-packages/gensim/models/word2vec.py\u001b[0m in \u001b[0;36m__iter__\u001b[0;34m(self)\u001b[0m\n\u001b[1;32m   1014\u001b[0m         \u001b[0;31m# so just split the sequence of tokens arbitrarily: 1 sentence = 1000 tokens\u001b[0m\u001b[0;34m\u001b[0m\u001b[0;34m\u001b[0m\u001b[0m\n\u001b[1;32m   1015\u001b[0m         \u001b[0msentence\u001b[0m\u001b[0;34m,\u001b[0m \u001b[0mrest\u001b[0m \u001b[0;34m=\u001b[0m \u001b[0;34m[\u001b[0m\u001b[0;34m]\u001b[0m\u001b[0;34m,\u001b[0m \u001b[0;34mb''\u001b[0m\u001b[0;34m\u001b[0m\u001b[0m\n\u001b[0;32m-> 1016\u001b[0;31m         \u001b[0;32mwith\u001b[0m \u001b[0mutils\u001b[0m\u001b[0;34m.\u001b[0m\u001b[0msmart_open\u001b[0m\u001b[0;34m(\u001b[0m\u001b[0mself\u001b[0m\u001b[0;34m.\u001b[0m\u001b[0mfname\u001b[0m\u001b[0;34m)\u001b[0m \u001b[0;32mas\u001b[0m \u001b[0mfin\u001b[0m\u001b[0;34m:\u001b[0m\u001b[0;34m\u001b[0m\u001b[0m\n\u001b[0m\u001b[1;32m   1017\u001b[0m             \u001b[0;32mwhile\u001b[0m \u001b[0;32mTrue\u001b[0m\u001b[0;34m:\u001b[0m\u001b[0;34m\u001b[0m\u001b[0m\n\u001b[1;32m   1018\u001b[0m                 \u001b[0mtext\u001b[0m \u001b[0;34m=\u001b[0m \u001b[0mrest\u001b[0m \u001b[0;34m+\u001b[0m \u001b[0mfin\u001b[0m\u001b[0;34m.\u001b[0m\u001b[0mread\u001b[0m\u001b[0;34m(\u001b[0m\u001b[0;36m8192\u001b[0m\u001b[0;34m)\u001b[0m  \u001b[0;31m# avoid loading the entire file (=1 line) into RAM\u001b[0m\u001b[0;34m\u001b[0m\u001b[0m\n",
      "\u001b[0;32m/usr/local/lib/python3.5/dist-packages/smart_open/smart_open_lib.py\u001b[0m in \u001b[0;36msmart_open\u001b[0;34m(uri, mode, **kw)\u001b[0m\n\u001b[1;32m    174\u001b[0m             \u001b[0mencoding\u001b[0m \u001b[0;34m=\u001b[0m \u001b[0mkw\u001b[0m\u001b[0;34m.\u001b[0m\u001b[0mpop\u001b[0m\u001b[0;34m(\u001b[0m\u001b[0;34m'encoding'\u001b[0m\u001b[0;34m,\u001b[0m \u001b[0;32mNone\u001b[0m\u001b[0;34m)\u001b[0m\u001b[0;34m\u001b[0m\u001b[0m\n\u001b[1;32m    175\u001b[0m             \u001b[0merrors\u001b[0m \u001b[0;34m=\u001b[0m \u001b[0mkw\u001b[0m\u001b[0;34m.\u001b[0m\u001b[0mpop\u001b[0m\u001b[0;34m(\u001b[0m\u001b[0;34m'errors'\u001b[0m\u001b[0;34m,\u001b[0m \u001b[0mDEFAULT_ERRORS\u001b[0m\u001b[0;34m)\u001b[0m\u001b[0;34m\u001b[0m\u001b[0m\n\u001b[0;32m--> 176\u001b[0;31m             \u001b[0;32mreturn\u001b[0m \u001b[0mfile_smart_open\u001b[0m\u001b[0;34m(\u001b[0m\u001b[0mparsed_uri\u001b[0m\u001b[0;34m.\u001b[0m\u001b[0muri_path\u001b[0m\u001b[0;34m,\u001b[0m \u001b[0mmode\u001b[0m\u001b[0;34m,\u001b[0m \u001b[0mencoding\u001b[0m\u001b[0;34m=\u001b[0m\u001b[0mencoding\u001b[0m\u001b[0;34m,\u001b[0m \u001b[0merrors\u001b[0m\u001b[0;34m=\u001b[0m\u001b[0merrors\u001b[0m\u001b[0;34m)\u001b[0m\u001b[0;34m\u001b[0m\u001b[0m\n\u001b[0m\u001b[1;32m    177\u001b[0m         \u001b[0;32melif\u001b[0m \u001b[0mparsed_uri\u001b[0m\u001b[0;34m.\u001b[0m\u001b[0mscheme\u001b[0m \u001b[0;32min\u001b[0m \u001b[0;34m(\u001b[0m\u001b[0;34m\"s3\"\u001b[0m\u001b[0;34m,\u001b[0m \u001b[0;34m\"s3n\"\u001b[0m\u001b[0;34m,\u001b[0m \u001b[0;34m's3u'\u001b[0m\u001b[0;34m)\u001b[0m\u001b[0;34m:\u001b[0m\u001b[0;34m\u001b[0m\u001b[0m\n\u001b[1;32m    178\u001b[0m             \u001b[0;32mreturn\u001b[0m \u001b[0ms3_open_uri\u001b[0m\u001b[0;34m(\u001b[0m\u001b[0mparsed_uri\u001b[0m\u001b[0;34m,\u001b[0m \u001b[0mmode\u001b[0m\u001b[0;34m,\u001b[0m \u001b[0;34m**\u001b[0m\u001b[0mkw\u001b[0m\u001b[0;34m)\u001b[0m\u001b[0;34m\u001b[0m\u001b[0m\n",
      "\u001b[0;32m/usr/local/lib/python3.5/dist-packages/smart_open/smart_open_lib.py\u001b[0m in \u001b[0;36mfile_smart_open\u001b[0;34m(fname, mode, encoding, errors)\u001b[0m\n\u001b[1;32m    669\u001b[0m     \u001b[0;32mexcept\u001b[0m \u001b[0mKeyError\u001b[0m\u001b[0;34m:\u001b[0m\u001b[0;34m\u001b[0m\u001b[0m\n\u001b[1;32m    670\u001b[0m         \u001b[0mraw_mode\u001b[0m \u001b[0;34m=\u001b[0m \u001b[0mmode\u001b[0m\u001b[0;34m\u001b[0m\u001b[0m\n\u001b[0;32m--> 671\u001b[0;31m     \u001b[0mraw_fobj\u001b[0m \u001b[0;34m=\u001b[0m \u001b[0mopen\u001b[0m\u001b[0;34m(\u001b[0m\u001b[0mfname\u001b[0m\u001b[0;34m,\u001b[0m \u001b[0mraw_mode\u001b[0m\u001b[0;34m)\u001b[0m\u001b[0;34m\u001b[0m\u001b[0m\n\u001b[0m\u001b[1;32m    672\u001b[0m     \u001b[0mdecompressed_fobj\u001b[0m \u001b[0;34m=\u001b[0m \u001b[0mcompression_wrapper\u001b[0m\u001b[0;34m(\u001b[0m\u001b[0mraw_fobj\u001b[0m\u001b[0;34m,\u001b[0m \u001b[0mfname\u001b[0m\u001b[0;34m,\u001b[0m \u001b[0mraw_mode\u001b[0m\u001b[0;34m)\u001b[0m\u001b[0;34m\u001b[0m\u001b[0m\n\u001b[1;32m    673\u001b[0m     \u001b[0mdecoded_fobj\u001b[0m \u001b[0;34m=\u001b[0m \u001b[0mencoding_wrapper\u001b[0m\u001b[0;34m(\u001b[0m\u001b[0mdecompressed_fobj\u001b[0m\u001b[0;34m,\u001b[0m \u001b[0mmode\u001b[0m\u001b[0;34m,\u001b[0m \u001b[0mencoding\u001b[0m\u001b[0;34m=\u001b[0m\u001b[0mencoding\u001b[0m\u001b[0;34m,\u001b[0m \u001b[0merrors\u001b[0m\u001b[0;34m=\u001b[0m\u001b[0merrors\u001b[0m\u001b[0;34m)\u001b[0m\u001b[0;34m\u001b[0m\u001b[0m\n",
      "\u001b[0;31mFileNotFoundError\u001b[0m: [Errno 2] No such file or directory: 'text8'"
     ]
    }
   ],
   "source": [
    "from gensim.models import word2vec\n",
    " \n",
    "import logging\n",
    " \n",
    "logging.basicConfig(format='%(asctime)s : %(levelname)s : %(message)s', level=logging.INFO)\n",
    " \n",
    "sentences = word2vec.Text8Corpus('text8')\n",
    " \n",
    "model = word2vec.Word2Vec(sentences, size=200)\n"
   ]
  },
  {
   "cell_type": "code",
   "execution_count": null,
   "metadata": {},
   "outputs": [],
   "source": []
  }
 ],
 "metadata": {
  "kernelspec": {
   "display_name": "Python 3",
   "language": "python",
   "name": "python3"
  },
  "language_info": {
   "codemirror_mode": {
    "name": "ipython",
    "version": 3
   },
   "file_extension": ".py",
   "mimetype": "text/x-python",
   "name": "python",
   "nbconvert_exporter": "python",
   "pygments_lexer": "ipython3",
   "version": "3.5.2"
  }
 },
 "nbformat": 4,
 "nbformat_minor": 2
}
