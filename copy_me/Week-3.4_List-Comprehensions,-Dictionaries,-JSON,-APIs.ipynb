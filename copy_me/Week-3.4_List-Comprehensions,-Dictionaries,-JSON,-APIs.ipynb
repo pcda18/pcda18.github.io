{
 "cells": [
  {
   "cell_type": "code",
   "execution_count": null,
   "metadata": {},
   "outputs": [],
   "source": [
    "# Important lesson: Grabbing a page from the Web\n",
    "\n",
    "from urllib.request import urlopen\n",
    "url = 'http://example.com/index.html'\n",
    "a_web_page = urlopen(url).read().decode('utf8')\n",
    "\n",
    "a_web_page"
   ]
  },
  {
   "cell_type": "code",
   "execution_count": null,
   "metadata": {},
   "outputs": [],
   "source": [
    "\n",
    "# Demo: using an API to grab some JSON records.\n",
    "\n",
    "## Transferring (w/ filtering) from one list to another with a for loop.\n"
   ]
  },
  {
   "cell_type": "code",
   "execution_count": null,
   "metadata": {},
   "outputs": [],
   "source": [
    "\n",
    "# List comprehensions — doing it in 1 line, very Pythonic\n"
   ]
  },
  {
   "cell_type": "code",
   "execution_count": null,
   "metadata": {},
   "outputs": [],
   "source": [
    "\n",
    "# Pick an api from a list and start exploring the tree to find a given field. Make a list of titles/urls/etc.\n"
   ]
  },
  {
   "cell_type": "code",
   "execution_count": null,
   "metadata": {},
   "outputs": [],
   "source": []
  },
  {
   "cell_type": "code",
   "execution_count": null,
   "metadata": {},
   "outputs": [],
   "source": [
    "\n",
    "\n",
    "## Dictionaries\n",
    "\n",
    "- A given key can point to numbers, text strings, lists, dictionaries, whatever.\n",
    "\n",
    "- Point: Dictionaries and JSON objects are basically the same thing.\n",
    "\n",
    "- Make a list of PDFs linked on a page and download them all, pausing between each.\n"
   ]
  },
  {
   "cell_type": "code",
   "execution_count": null,
   "metadata": {},
   "outputs": [],
   "source": []
  },
  {
   "cell_type": "code",
   "execution_count": null,
   "metadata": {},
   "outputs": [],
   "source": []
  },
  {
   "cell_type": "code",
   "execution_count": null,
   "metadata": {},
   "outputs": [],
   "source": []
  }
 ],
 "metadata": {
  "kernelspec": {
   "display_name": "Python 3",
   "language": "python",
   "name": "python3"
  },
  "language_info": {
   "codemirror_mode": {
    "name": "ipython",
    "version": 3
   },
   "file_extension": ".py",
   "mimetype": "text/x-python",
   "name": "python",
   "nbconvert_exporter": "python",
   "pygments_lexer": "ipython3",
   "version": "3.5.2"
  }
 },
 "nbformat": 4,
 "nbformat_minor": 2
}
