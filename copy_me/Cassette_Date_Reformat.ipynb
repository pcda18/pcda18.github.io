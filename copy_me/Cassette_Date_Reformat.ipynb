{
 "cells": [
  {
   "cell_type": "code",
   "execution_count": null,
   "metadata": {},
   "outputs": [],
   "source": [
    "import os\n",
    "\n",
    "try: os.mkdir('/sharedfolder/week_3/')\n",
    "except: pass\n",
    "\n",
    "os.chdir('/sharedfolder/week_3/')"
   ]
  },
  {
   "cell_type": "code",
   "execution_count": null,
   "metadata": {},
   "outputs": [],
   "source": [
    "## Using a 'magic' prefix -- the exclamation point -- to execute a bash command\n",
    "\n",
    "!wget https://raw.githubusercontent.com/pcda18/pcda18.github.io/master/data/cassette_labels.txt"
   ]
  },
  {
   "cell_type": "code",
   "execution_count": null,
   "metadata": {},
   "outputs": [],
   "source": [
    "cassette_label_list = open('cassette_labels.txt').read().splitlines()\n",
    "\n",
    "print(len(cassette_label_list))\n",
    "\n",
    "cassette_label_list[:15]"
   ]
  },
  {
   "cell_type": "code",
   "execution_count": null,
   "metadata": {},
   "outputs": [],
   "source": [
    "## Splitting each cassette label string at spaces\n",
    "\n",
    "for cassette_label in cassette_label_list:\n",
    "    segments = cassette_label.split(' ')\n",
    "    print(segments)"
   ]
  },
  {
   "cell_type": "code",
   "execution_count": null,
   "metadata": {},
   "outputs": [],
   "source": [
    "## You'll get an error here!\n",
    "## (Trying to print the second segment in each label)\n",
    "\n",
    "for cassette_label in cassette_label_list:\n",
    "    segments = cassette_label.split(' ')\n",
    "    print(segments[2])"
   ]
  },
  {
   "cell_type": "code",
   "execution_count": null,
   "metadata": {},
   "outputs": [],
   "source": [
    "## Counting slashes in each segment\n",
    "\n",
    "for cassette_label in cassette_label_list:\n",
    "    segments = cassette_label.split(' ')\n",
    "    for segment in segments:\n",
    "        print(segment)\n",
    "        print(segment.count('/'))\n",
    "        print()"
   ]
  },
  {
   "cell_type": "code",
   "execution_count": null,
   "metadata": {},
   "outputs": [],
   "source": [
    "## Only print string segments that appear to be dates\n",
    "\n",
    "for cassette_label in cassette_label_list:\n",
    "    segments = cassette_label.split(' ')\n",
    "    for segment in segments:\n",
    "        if segment.count('/')==2:\n",
    "            print(segment)"
   ]
  },
  {
   "cell_type": "code",
   "execution_count": null,
   "metadata": {},
   "outputs": [],
   "source": [
    "## Creating a list of dates\n",
    "\n",
    "new_date_list = []\n",
    "\n",
    "for cassette_label in cassette_label_list:\n",
    "    segments = cassette_label.split(' ')\n",
    "    for segment in segments:\n",
    "        if segment.count('/')==2:\n",
    "            new_date_list.append(segment)\n",
    "            print(segment)"
   ]
  },
  {
   "cell_type": "code",
   "execution_count": null,
   "metadata": {},
   "outputs": [],
   "source": [
    "len(new_date_list)"
   ]
  },
  {
   "cell_type": "code",
   "execution_count": null,
   "metadata": {},
   "outputs": [],
   "source": [
    "len(cassette_label_list)"
   ]
  },
  {
   "cell_type": "code",
   "execution_count": null,
   "metadata": {},
   "outputs": [],
   "source": [
    "new_date_list = []\n",
    "\n",
    "for cassette_label in cassette_label_list:\n",
    "    segments = cassette_label.split(' ')\n",
    "    date_formatted = 'n.d.'\n",
    "    for segment in segments:\n",
    "        if segment.count('/')==2:\n",
    "            month, date, year = segment.split('/')\n",
    "            print(year + '-' + month + '-' + date)"
   ]
  },
  {
   "cell_type": "code",
   "execution_count": null,
   "metadata": {},
   "outputs": [],
   "source": [
    "for cassette_label in cassette_label_list:\n",
    "    segments = cassette_label.split(' ')\n",
    "    date_formatted = 'n.d.'\n",
    "    for segment in segments:\n",
    "        if segment.count('/')==2:\n",
    "            month, date, year = segment.split('/')\n",
    "            print('19' + year + '-' + month + '-' + date)"
   ]
  },
  {
   "cell_type": "code",
   "execution_count": null,
   "metadata": {},
   "outputs": [],
   "source": [
    "new_date_list = []\n",
    "\n",
    "for cassette_label in cassette_label_list:\n",
    "    segments = cassette_label.split(' ')\n",
    "    formatted_date = 'n.d.'\n",
    "    for segment in segments:\n",
    "        if segment.count('/')==2:\n",
    "            month, date, year = segment.split('/')\n",
    "            year = year.strip(',')   ## removing the occasional comma we see following some years\n",
    "            if len(year) == 2:\n",
    "                year = '19' + year\n",
    "            formatted_date = year + '-' + month + '-' + date\n",
    "    print(formatted_date)\n",
    "    new_date_list.append(formatted_date)"
   ]
  },
  {
   "cell_type": "code",
   "execution_count": null,
   "metadata": {},
   "outputs": [],
   "source": [
    "len(new_date_list)"
   ]
  },
  {
   "cell_type": "code",
   "execution_count": null,
   "metadata": {},
   "outputs": [],
   "source": [
    "## Adding zero padding to single-digit numbers\n",
    "\n",
    "new_date_list = []\n",
    "\n",
    "for cassette_label in cassette_label_list:\n",
    "    segments = cassette_label.split(' ')\n",
    "    formatted_date = 'n.d.'\n",
    "    for segment in segments:\n",
    "        if segment.count('/')==2:\n",
    "            month, date, year = segment.split('/')\n",
    "            year = year.strip(',')\n",
    "            if len(year) == 2:\n",
    "                year = '19' + year                            \n",
    "            formatted_date = year + '-' + month.zfill(2) + '-' + date.zfill(2)\n",
    "    print(formatted_date)\n",
    "    new_date_list.append(formatted_date)"
   ]
  },
  {
   "cell_type": "code",
   "execution_count": null,
   "metadata": {},
   "outputs": [],
   "source": [
    "## Look at random formatted dates to see if there are any problems\n",
    "\n",
    "import random\n",
    "\n",
    "random.sample(new_date_list, 25)"
   ]
  },
  {
   "cell_type": "code",
   "execution_count": null,
   "metadata": {},
   "outputs": [],
   "source": [
    "len(new_date_list)"
   ]
  },
  {
   "cell_type": "code",
   "execution_count": null,
   "metadata": {},
   "outputs": [],
   "source": [
    "new_date_list"
   ]
  },
  {
   "cell_type": "code",
   "execution_count": null,
   "metadata": {},
   "outputs": [],
   "source": [
    "## Writing list of formatted dates to a new .txt file\n",
    "\n",
    "with open('formatted_dates.txt', 'w') as fo:\n",
    "    for date in new_date_list:\n",
    "        fo.write(date)\n",
    "        fo.write('\\n')"
   ]
  },
  {
   "cell_type": "code",
   "execution_count": null,
   "metadata": {},
   "outputs": [],
   "source": []
  }
 ],
 "metadata": {
  "kernelspec": {
   "display_name": "Python 3",
   "language": "python",
   "name": "python3"
  },
  "language_info": {
   "codemirror_mode": {
    "name": "ipython",
    "version": 3
   },
   "file_extension": ".py",
   "mimetype": "text/x-python",
   "name": "python",
   "nbconvert_exporter": "python",
   "pygments_lexer": "ipython3",
   "version": "3.5.2"
  }
 },
 "nbformat": 4,
 "nbformat_minor": 2
}
