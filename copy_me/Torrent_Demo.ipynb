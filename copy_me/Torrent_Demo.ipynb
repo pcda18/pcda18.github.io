{
 "cells": [
  {
   "cell_type": "markdown",
   "metadata": {},
   "source": [
    "# Bittorent CLI Demo"
   ]
  },
  {
   "cell_type": "code",
   "execution_count": null,
   "metadata": {},
   "outputs": [],
   "source": [
    "### Add non-standard package repository\n",
    "!add-apt-repository -y ppa:transmissionbt/ppa\n",
    "\n",
    "# Update repositories\n",
    "!apt-get -y update\n",
    "\n",
    "# Install Transmission\n",
    "!apt-get -y install transmission-cli transmission-common transmission-daemon"
   ]
  },
  {
   "cell_type": "code",
   "execution_count": null,
   "metadata": {},
   "outputs": [],
   "source": [
    "%%capture\n",
    "# The line above above, a so-called 'magic,' keeps this cell from displaying\n",
    "# the output of the installation commands below.\n",
    "\n",
    "### Add non-standard package repository\n",
    "!add-apt-repository -y ppa:transmissionbt/ppa\n",
    "\n",
    "### Update repositories\n",
    "!apt-get -y update\n",
    "\n",
    "### Install Transmission\n",
    "!apt-get -y install transmission-cli transmission-common transmission-daemon"
   ]
  },
  {
   "cell_type": "raw",
   "metadata": {},
   "source": []
  }
 ],
 "metadata": {
  "kernelspec": {
   "display_name": "Python 3",
   "language": "python",
   "name": "python3"
  },
  "language_info": {
   "codemirror_mode": {
    "name": "ipython",
    "version": 3
   },
   "file_extension": ".py",
   "mimetype": "text/x-python",
   "name": "python",
   "nbconvert_exporter": "python",
   "pygments_lexer": "ipython3",
   "version": "3.5.2"
  }
 },
 "nbformat": 4,
 "nbformat_minor": 2
}
