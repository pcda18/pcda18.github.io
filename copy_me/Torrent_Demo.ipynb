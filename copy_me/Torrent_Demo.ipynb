{
 "cells": [
  {
   "cell_type": "markdown",
   "metadata": {},
   "source": [
    "# Bittorent CLI Demo"
   ]
  },
  {
   "cell_type": "code",
   "execution_count": 1,
   "metadata": {},
   "outputs": [
    {
     "name": "stdout",
     "output_type": "stream",
     "text": [
      "gpg: keyring `/tmp/tmp0jppj573/secring.gpg' created\n",
      "gpg: keyring `/tmp/tmp0jppj573/pubring.gpg' created\n",
      "gpg: requesting key 365C5CA1 from hkp server keyserver.ubuntu.com\n",
      "gpg: /tmp/tmp0jppj573/trustdb.gpg: trustdb created\n",
      "gpg: key 365C5CA1: public key \"Launchpad PPA for transmissionbt\" imported\n",
      "gpg: no ultimately trusted keys found\n",
      "gpg: Total number processed: 1\n",
      "gpg:               imported: 1  (RSA: 1)\n",
      "OK\n",
      "Hit:1 http://ppa.launchpad.net/jonathonf/ffmpeg-3/ubuntu xenial InRelease\n",
      "Hit:2 http://archive.ubuntu.com/ubuntu xenial InRelease\n",
      "Get:3 http://security.ubuntu.com/ubuntu xenial-security InRelease [102 kB]     \n",
      "Get:4 http://ppa.launchpad.net/transmissionbt/ppa/ubuntu xenial InRelease [17.5 kB]\n",
      "Get:5 http://archive.ubuntu.com/ubuntu xenial-updates InRelease [102 kB]       \n",
      "Get:6 http://security.ubuntu.com/ubuntu xenial-security/universe Sources [73.2 kB]\n",
      "Get:7 http://ppa.launchpad.net/transmissionbt/ppa/ubuntu xenial/main amd64 Packages [2,135 B]\n",
      "Get:8 http://archive.ubuntu.com/ubuntu xenial-backports InRelease [102 kB]     \n",
      "Get:9 http://security.ubuntu.com/ubuntu xenial-security/main amd64 Packages [589 kB]\n",
      "Get:10 http://archive.ubuntu.com/ubuntu xenial-updates/universe Sources [242 kB]\n",
      "Get:11 http://archive.ubuntu.com/ubuntu xenial-updates/main amd64 Packages [957 kB]\n",
      "Get:12 http://security.ubuntu.com/ubuntu xenial-security/universe amd64 Packages [406 kB]\n",
      "Get:13 http://archive.ubuntu.com/ubuntu xenial-updates/universe amd64 Packages [766 kB]\n",
      "Fetched 3,360 kB in 5s (660 kB/s)                        \n",
      "Reading package lists... Done\n",
      "Reading package lists... Done\n",
      "Building dependency tree       \n",
      "Reading state information... Done\n",
      "The following additional packages will be installed:\n",
      "  libevent-2.0-5 libminiupnpc10 libnatpmp1\n",
      "Suggested packages:\n",
      "  minissdpd natpmp-utils transmission-gtk\n",
      "The following NEW packages will be installed:\n",
      "  libevent-2.0-5 libminiupnpc10 libnatpmp1 transmission-cli\n",
      "  transmission-common transmission-daemon\n",
      "0 upgraded, 6 newly installed, 0 to remove and 116 not upgraded.\n",
      "Need to get 1,058 kB of archives.\n",
      "After this operation, 4,493 kB of additional disk space will be used.\n",
      "Get:1 http://archive.ubuntu.com/ubuntu xenial-updates/main amd64 libevent-2.0-5 amd64 2.0.21-stable-2ubuntu0.16.04.1 [114 kB]\n",
      "Get:2 http://ppa.launchpad.net/transmissionbt/ppa/ubuntu xenial/main amd64 transmission-common all 2.93-1ubuntu1~16.04.1ubuntu1 [291 kB]\n",
      "Get:3 http://archive.ubuntu.com/ubuntu xenial-updates/main amd64 libminiupnpc10 amd64 1.9.20140610-2ubuntu2.16.04.2 [23.9 kB]\n",
      "Get:4 http://archive.ubuntu.com/ubuntu xenial/main amd64 libnatpmp1 amd64 20110808-4 [7,674 B]\n",
      "Get:5 http://ppa.launchpad.net/transmissionbt/ppa/ubuntu xenial/main amd64 transmission-daemon amd64 2.93-1ubuntu1~16.04.1ubuntu1 [218 kB]\n",
      "Get:6 http://ppa.launchpad.net/transmissionbt/ppa/ubuntu xenial/main amd64 transmission-cli amd64 2.93-1ubuntu1~16.04.1ubuntu1 [403 kB]\n",
      "Fetched 1,058 kB in 3s (334 kB/s)         \n",
      "debconf: unable to initialize frontend: Dialog\n",
      "debconf: (No usable dialog-like program is installed, so the dialog based frontend cannot be used. at /usr/share/perl5/Debconf/FrontEnd/Dialog.pm line 76, <> line 6.)\n",
      "debconf: falling back to frontend: Readline\n",
      "Selecting previously unselected package transmission-common.\n",
      "(Reading database ... 70474 files and directories currently installed.)\n",
      "Preparing to unpack .../transmission-common_2.93-1ubuntu1~16.04.1ubuntu1_all.deb ...\n",
      "Unpacking transmission-common (2.93-1ubuntu1~16.04.1ubuntu1) ...\n",
      "Selecting previously unselected package libevent-2.0-5:amd64.\n",
      "Preparing to unpack .../libevent-2.0-5_2.0.21-stable-2ubuntu0.16.04.1_amd64.deb ...\n",
      "Unpacking libevent-2.0-5:amd64 (2.0.21-stable-2ubuntu0.16.04.1) ...\n",
      "Selecting previously unselected package libminiupnpc10:amd64.\n",
      "Preparing to unpack .../libminiupnpc10_1.9.20140610-2ubuntu2.16.04.2_amd64.deb ...\n",
      "Unpacking libminiupnpc10:amd64 (1.9.20140610-2ubuntu2.16.04.2) ...\n",
      "Selecting previously unselected package libnatpmp1:amd64.\n",
      "Preparing to unpack .../libnatpmp1_20110808-4_amd64.deb ...\n",
      "Unpacking libnatpmp1:amd64 (20110808-4) ...\n",
      "Selecting previously unselected package transmission-daemon.\n",
      "Preparing to unpack .../transmission-daemon_2.93-1ubuntu1~16.04.1ubuntu1_amd64.deb ...\n",
      "Unpacking transmission-daemon (2.93-1ubuntu1~16.04.1ubuntu1) ...\n",
      "Selecting previously unselected package transmission-cli.\n",
      "Preparing to unpack .../transmission-cli_2.93-1ubuntu1~16.04.1ubuntu1_amd64.deb ...\n",
      "Unpacking transmission-cli (2.93-1ubuntu1~16.04.1ubuntu1) ...\n",
      "Processing triggers for hicolor-icon-theme (0.15-0ubuntu1) ...\n",
      "Processing triggers for libc-bin (2.23-0ubuntu9) ...\n",
      "Processing triggers for systemd (229-4ubuntu21) ...\n",
      "Processing triggers for man-db (2.7.5-1) ...\n",
      "Setting up transmission-common (2.93-1ubuntu1~16.04.1ubuntu1) ...\n",
      "Setting up libevent-2.0-5:amd64 (2.0.21-stable-2ubuntu0.16.04.1) ...\n",
      "Setting up libminiupnpc10:amd64 (1.9.20140610-2ubuntu2.16.04.2) ...\n",
      "Setting up libnatpmp1:amd64 (20110808-4) ...\n",
      "Setting up transmission-daemon (2.93-1ubuntu1~16.04.1ubuntu1) ...\n",
      "invoke-rc.d: could not determine current runlevel\n",
      "invoke-rc.d: policy-rc.d denied execution of start.\n",
      "Setting up transmission-cli (2.93-1ubuntu1~16.04.1ubuntu1) ...\n",
      "Processing triggers for libc-bin (2.23-0ubuntu9) ...\n",
      "Processing triggers for systemd (229-4ubuntu21) ...\n"
     ]
    }
   ],
   "source": [
    "### Add non-standard package repository\n",
    "!add-apt-repository -y ppa:transmissionbt/ppa\n",
    "\n",
    "# Update repositories\n",
    "!apt-get -y update\n",
    "\n",
    "# Install Transmission\n",
    "!apt-get -y install transmission-cli transmission-common transmission-daemon"
   ]
  },
  {
   "cell_type": "code",
   "execution_count": 2,
   "metadata": {},
   "outputs": [],
   "source": [
    "%%capture\n",
    "\n",
    "## Use the 'magic' line above to hide the output of a chatty Jupyter cell like this one (same as the cell above).\n",
    "\n",
    "### Add non-standard package repository\n",
    "!add-apt-repository -y ppa:transmissionbt/ppa\n",
    "\n",
    "### Update repositories\n",
    "!apt-get -y update\n",
    "\n",
    "### Install Transmission\n",
    "!apt-get -y install transmission-cli transmission-common transmission-daemon"
   ]
  },
  {
   "cell_type": "raw",
   "metadata": {},
   "source": []
  },
  {
   "cell_type": "code",
   "execution_count": null,
   "metadata": {},
   "outputs": [],
   "source": []
  },
  {
   "cell_type": "code",
   "execution_count": null,
   "metadata": {},
   "outputs": [],
   "source": []
  },
  {
   "cell_type": "code",
   "execution_count": null,
   "metadata": {},
   "outputs": [],
   "source": []
  }
 ],
 "metadata": {
  "kernelspec": {
   "display_name": "Python 3",
   "language": "python",
   "name": "python3"
  },
  "language_info": {
   "codemirror_mode": {
    "name": "ipython",
    "version": 3
   },
   "file_extension": ".py",
   "mimetype": "text/x-python",
   "name": "python",
   "nbconvert_exporter": "python",
   "pygments_lexer": "ipython3",
   "version": "3.5.2"
  }
 },
 "nbformat": 4,
 "nbformat_minor": 2
}
