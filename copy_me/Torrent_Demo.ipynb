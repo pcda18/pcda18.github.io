{
 "cells": [
  {
   "cell_type": "markdown",
   "metadata": {},
   "source": [
    "# Bittorent CLI Demo"
   ]
  },
  {
   "cell_type": "code",
   "execution_count": 5,
   "metadata": {},
   "outputs": [
    {
     "name": "stdout",
     "output_type": "stream",
     "text": [
      "gpg: keyring `/tmp/tmpd_o9fq2x/secring.gpg' created\n",
      "gpg: keyring `/tmp/tmpd_o9fq2x/pubring.gpg' created\n",
      "gpg: requesting key 365C5CA1 from hkp server keyserver.ubuntu.com\n",
      "gpg: /tmp/tmpd_o9fq2x/trustdb.gpg: trustdb created\n",
      "gpg: key 365C5CA1: public key \"Launchpad PPA for transmissionbt\" imported\n",
      "gpg: no ultimately trusted keys found\n",
      "gpg: Total number processed: 1\n",
      "gpg:               imported: 1  (RSA: 1)\n",
      "OK\n",
      "Hit:1 http://security.ubuntu.com/ubuntu xenial-security InRelease\n",
      "Hit:2 http://ppa.launchpad.net/jonathonf/ffmpeg-3/ubuntu xenial InRelease      \n",
      "Hit:3 http://archive.ubuntu.com/ubuntu xenial InRelease                        \n",
      "Hit:4 http://archive.ubuntu.com/ubuntu xenial-updates InRelease                \n",
      "Hit:5 http://ppa.launchpad.net/transmissionbt/ppa/ubuntu xenial InRelease      \n",
      "Hit:6 http://archive.ubuntu.com/ubuntu xenial-backports InRelease       \n",
      "Reading package lists... Done                     \n",
      "Reading package lists... Done\n",
      "Building dependency tree       \n",
      "Reading state information... Done\n",
      "transmission-cli is already the newest version (2.92-1ubuntu1~16.104.2).\n",
      "transmission-common is already the newest version (2.92-1ubuntu1~16.104.2).\n",
      "transmission-daemon is already the newest version (2.92-1ubuntu1~16.104.2).\n",
      "0 upgraded, 0 newly installed, 0 to remove and 61 not upgraded.\n"
     ]
    }
   ],
   "source": [
    "### Add non-standard package repository\n",
    "!add-apt-repository -y ppa:transmissionbt/ppa\n",
    "\n",
    "# Update repositories\n",
    "!apt-get -y update\n",
    "\n",
    "# Install Transmission\n",
    "!apt-get -y install transmission-cli transmission-common transmission-daemon"
   ]
  },
  {
   "cell_type": "code",
   "execution_count": 6,
   "metadata": {},
   "outputs": [],
   "source": [
    "%%capture\n",
    "\n",
    "## Use the 'magic' line above to hide the output of a chatty Jupyter cell like this one (same as the cell above).\n",
    "\n",
    "\n",
    "### Add non-standard package repository\n",
    "!add-apt-repository -y ppa:transmissionbt/ppa\n",
    "\n",
    "### Update repositories\n",
    "!apt-get -y update\n",
    "\n",
    "### Install Transmission\n",
    "!apt-get -y install transmission-cli transmission-common transmission-daemon"
   ]
  },
  {
   "cell_type": "raw",
   "metadata": {},
   "source": []
  },
  {
   "cell_type": "code",
   "execution_count": null,
   "metadata": {
    "collapsed": true
   },
   "outputs": [],
   "source": []
  },
  {
   "cell_type": "code",
   "execution_count": null,
   "metadata": {},
   "outputs": [],
   "source": []
  },
  {
   "cell_type": "code",
   "execution_count": null,
   "metadata": {},
   "outputs": [],
   "source": []
  }
 ],
 "metadata": {
  "kernelspec": {
   "display_name": "Python 3",
   "language": "python",
   "name": "python3"
  },
  "language_info": {
   "codemirror_mode": {
    "name": "ipython",
    "version": 3
   },
   "file_extension": ".py",
   "mimetype": "text/x-python",
   "name": "python",
   "nbconvert_exporter": "python",
   "pygments_lexer": "ipython3",
   "version": "3.5.2"
  }
 },
 "nbformat": 4,
 "nbformat_minor": 2
}
