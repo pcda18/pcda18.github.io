{
 "cells": [
  {
   "cell_type": "code",
   "execution_count": 1,
   "metadata": {},
   "outputs": [],
   "source": [
    "text_chunk = ''' The Velvet Underground & Nico (1967) \n",
    "White Light/White Heat (1968) \n",
    "The Velvet Underground (1969) \n",
    "Loaded (1970) '''"
   ]
  },
  {
   "cell_type": "code",
   "execution_count": 2,
   "metadata": {},
   "outputs": [],
   "source": [
    "## Write text to disk\n",
    "\n",
    "with open('/sharedfolder/vu.txt', 'w') as file_out:\n",
    "    file_out.write(text_chunk)"
   ]
  },
  {
   "cell_type": "code",
   "execution_count": 3,
   "metadata": {},
   "outputs": [
    {
     "data": {
      "text/plain": [
       "' The Velvet Underground & Nico (1967) \\nWhite Light/White Heat (1968) \\nThe Velvet Underground (1969) \\nLoaded (1970) '"
      ]
     },
     "execution_count": 3,
     "metadata": {},
     "output_type": "execute_result"
    }
   ],
   "source": [
    "## Read text from disk\n",
    "\n",
    "text_chunk = open('/sharedfolder/vu.txt').read()\n",
    "\n",
    "text_chunk"
   ]
  },
  {
   "cell_type": "code",
   "execution_count": 4,
   "metadata": {},
   "outputs": [
    {
     "data": {
      "text/plain": [
       "[' The Velvet Underground & Nico (1967) ',\n",
       " 'White Light/White Heat (1968) ',\n",
       " 'The Velvet Underground (1969) ',\n",
       " 'Loaded (1970) ']"
      ]
     },
     "execution_count": 4,
     "metadata": {},
     "output_type": "execute_result"
    }
   ],
   "source": [
    "### Convert lines of text to a list with .split('\\n')\n",
    "\n",
    "string_list = text_chunk.split('\\n')\n",
    "\n",
    "string_list"
   ]
  },
  {
   "cell_type": "code",
   "execution_count": 5,
   "metadata": {},
   "outputs": [
    {
     "data": {
      "text/plain": [
       "['The Velvet Underground & Nico (1967)',\n",
       " 'White Light/White Heat (1968)',\n",
       " 'The Velvet Underground (1969)',\n",
       " 'Loaded (1970)']"
      ]
     },
     "execution_count": 5,
     "metadata": {},
     "output_type": "execute_result"
    }
   ],
   "source": [
    "## Remove whitespace characters around each string with .strip() and a list comprehension\n",
    "\n",
    "string_list = [item.strip() for item in string_list]\n",
    "\n",
    "string_list"
   ]
  },
  {
   "cell_type": "code",
   "execution_count": 6,
   "metadata": {},
   "outputs": [
    {
     "data": {
      "text/plain": [
       "['Loaded (1970)',\n",
       " 'White Light/White Heat (1968)',\n",
       " 'The Velvet Underground & Nico (1967)',\n",
       " 'The Velvet Underground (1969)']"
      ]
     },
     "execution_count": 6,
     "metadata": {},
     "output_type": "execute_result"
    }
   ],
   "source": [
    "## Shuffle the order of items in a list\n",
    "\n",
    "import random\n",
    "\n",
    "random.shuffle(string_list)\n",
    "\n",
    "# Note that calling random.shuffle(string_list) permanently shuffles \n",
    "# the order of items in a list.\n",
    "\n",
    "string_list"
   ]
  },
  {
   "cell_type": "code",
   "execution_count": 7,
   "metadata": {},
   "outputs": [
    {
     "data": {
      "text/plain": [
       "['Loaded (1970)',\n",
       " 'The Velvet Underground & Nico (1967)',\n",
       " 'The Velvet Underground (1969)',\n",
       " 'White Light/White Heat (1968)']"
      ]
     },
     "execution_count": 7,
     "metadata": {},
     "output_type": "execute_result"
    }
   ],
   "source": [
    "## Alphabetize a list\n",
    "\n",
    "sorted_list = sorted(string_list) \n",
    "\n",
    "# Note that sorted(string_list) does not permanently change the list's \n",
    "# order, but we can assign its output to a separate variable.\n",
    "\n",
    "sorted_list"
   ]
  },
  {
   "cell_type": "code",
   "execution_count": 8,
   "metadata": {},
   "outputs": [
    {
     "data": {
      "text/plain": [
       "['Loaded (1970)',\n",
       " 'White Light/White Heat (1968)',\n",
       " 'The Velvet Underground & Nico (1967)',\n",
       " 'The Velvet Underground (1969)']"
      ]
     },
     "execution_count": 8,
     "metadata": {},
     "output_type": "execute_result"
    }
   ],
   "source": [
    "string_list"
   ]
  },
  {
   "cell_type": "code",
   "execution_count": 9,
   "metadata": {},
   "outputs": [
    {
     "data": {
      "text/plain": [
       "['LOADED (1970)',\n",
       " 'THE VELVET UNDERGROUND & NICO (1967)',\n",
       " 'THE VELVET UNDERGROUND (1969)',\n",
       " 'WHITE LIGHT/WHITE HEAT (1968)']"
      ]
     },
     "execution_count": 9,
     "metadata": {},
     "output_type": "execute_result"
    }
   ],
   "source": [
    "## Applying a function to each item in a list with a list comprehension\n",
    "\n",
    "upper_list = [item.upper() for item in sorted(string_list)]\n",
    "\n",
    "upper_list"
   ]
  },
  {
   "cell_type": "code",
   "execution_count": 10,
   "metadata": {},
   "outputs": [
    {
     "data": {
      "text/plain": [
       "[['Loaded', '(1970)'],\n",
       " ['White', 'Light/White', 'Heat', '(1968)'],\n",
       " ['The', 'Velvet', 'Underground', '&', 'Nico', '(1967)'],\n",
       " ['The', 'Velvet', 'Underground', '(1969)']]"
      ]
     },
     "execution_count": 10,
     "metadata": {},
     "output_type": "execute_result"
    }
   ],
   "source": [
    "## Splitting each item in a list using spaces\n",
    "\n",
    "list_of_lists = [item.split(' ') for item in string_list]\n",
    "\n",
    "list_of_lists"
   ]
  },
  {
   "cell_type": "code",
   "execution_count": 11,
   "metadata": {},
   "outputs": [
    {
     "data": {
      "text/plain": [
       "['(1970)', '(1968)', '(1967)', '(1969)']"
      ]
     },
     "execution_count": 11,
     "metadata": {},
     "output_type": "execute_result"
    }
   ],
   "source": [
    "## Extracting years as strings\n",
    "\n",
    "years = [item.split(' ')[-1] for item in string_list]\n",
    "\n",
    "years"
   ]
  },
  {
   "cell_type": "code",
   "execution_count": 12,
   "metadata": {},
   "outputs": [
    {
     "data": {
      "text/plain": [
       "['1970', '1968', '1967', '1969']"
      ]
     },
     "execution_count": 12,
     "metadata": {},
     "output_type": "execute_result"
    }
   ],
   "source": [
    "## Add .strip('()') to remove parentheses\n",
    "\n",
    "years = [item.split(' ')[-1].strip('()') for item in string_list]\n",
    "\n",
    "years"
   ]
  },
  {
   "cell_type": "code",
   "execution_count": 13,
   "metadata": {},
   "outputs": [
    {
     "data": {
      "text/plain": [
       "[1970, 1968, 1967, 1969]"
      ]
     },
     "execution_count": 13,
     "metadata": {},
     "output_type": "execute_result"
    }
   ],
   "source": [
    "## Extracting years as integers\n",
    "\n",
    "years = [int(item.split(' ')[-1].strip('()')) for item in string_list]\n",
    "\n",
    "years"
   ]
  },
  {
   "cell_type": "code",
   "execution_count": 14,
   "metadata": {},
   "outputs": [
    {
     "data": {
      "text/plain": [
       "['Loaded',\n",
       " 'White Light/White Heat',\n",
       " 'The Velvet Underground & Nico',\n",
       " 'The Velvet Underground']"
      ]
     },
     "execution_count": 14,
     "metadata": {},
     "output_type": "execute_result"
    }
   ],
   "source": [
    "## Splitting each item in a list at ' (' to isolate titles\n",
    "\n",
    "[item.split(' (')[0] for item in string_list]"
   ]
  },
  {
   "cell_type": "code",
   "execution_count": 15,
   "metadata": {},
   "outputs": [
    {
     "data": {
      "text/plain": [
       "['Loaded',\n",
       " 'White Light/White Heat',\n",
       " 'The Velvet Underground & Nico',\n",
       " 'The Velvet Underground']"
      ]
     },
     "execution_count": 15,
     "metadata": {},
     "output_type": "execute_result"
    }
   ],
   "source": [
    "## Extracting titles by splitting at spaces\n",
    "\n",
    "[' '.join(item.split(' ')[:-1]) for item in string_list]"
   ]
  },
  {
   "cell_type": "code",
   "execution_count": 16,
   "metadata": {},
   "outputs": [
    {
     "data": {
      "text/plain": [
       "array([[0, 0, 0, 1, 0, 0, 1, 0, 0, 0, 0, 0],\n",
       "       [0, 1, 0, 0, 1, 1, 0, 0, 0, 0, 0, 2],\n",
       "       [1, 0, 0, 0, 0, 0, 0, 1, 1, 1, 1, 0],\n",
       "       [0, 0, 1, 0, 0, 0, 0, 0, 1, 1, 1, 0]], dtype=int64)"
      ]
     },
     "execution_count": 16,
     "metadata": {},
     "output_type": "execute_result"
    }
   ],
   "source": [
    "## Vectorize a list of strings\n",
    "\n",
    "from sklearn.feature_extraction.text import CountVectorizer\n",
    "\n",
    "vectorizer = CountVectorizer()\n",
    "\n",
    "data = vectorizer.fit_transform(string_list).toarray()\n",
    "\n",
    "data"
   ]
  },
  {
   "cell_type": "code",
   "execution_count": 17,
   "metadata": {},
   "outputs": [
    {
     "name": "stdout",
     "output_type": "stream",
     "text": [
      "['1967', '1968', '1969', '1970', 'heat', 'light', 'loaded', 'nico', 'the', 'underground', 'velvet', 'white']\n"
     ]
    }
   ],
   "source": [
    "print(vectorizer.get_feature_names())"
   ]
  },
  {
   "cell_type": "code",
   "execution_count": 18,
   "metadata": {},
   "outputs": [
    {
     "data": {
      "text/plain": [
       "['Loaded (1970)',\n",
       " 'White Light/White Heat (1968)',\n",
       " 'The Velvet Underground & Nico (1967)',\n",
       " 'The Velvet Underground (1969)']"
      ]
     },
     "execution_count": 18,
     "metadata": {},
     "output_type": "execute_result"
    }
   ],
   "source": [
    "string_list"
   ]
  },
  {
   "cell_type": "code",
   "execution_count": 19,
   "metadata": {},
   "outputs": [
    {
     "data": {
      "text/plain": [
       "array([[0, 0, 0, 0, 0, 0, 0, 0, 0, 0, 1, 0],\n",
       "       [0, 0, 0, 0, 0, 0, 0, 0, 2, 0, 0, 0],\n",
       "       [0, 0, 1, 0, 0, 0, 0, 0, 0, 0, 0, 0]])"
      ]
     },
     "execution_count": 19,
     "metadata": {},
     "output_type": "execute_result"
    }
   ],
   "source": [
    "## Vectorize a list of strings using the count vectorizer from above\n",
    "\n",
    "new_vector = vectorizer.transform(['Some Velvet Sidewalk', 'The The', '1969'])\n",
    "\n",
    "new_vector.toarray()"
   ]
  },
  {
   "cell_type": "code",
   "execution_count": null,
   "metadata": {},
   "outputs": [],
   "source": []
  }
 ],
 "metadata": {
  "kernelspec": {
   "display_name": "Python 3",
   "language": "python",
   "name": "python3"
  },
  "language_info": {
   "codemirror_mode": {
    "name": "ipython",
    "version": 3
   },
   "file_extension": ".py",
   "mimetype": "text/x-python",
   "name": "python",
   "nbconvert_exporter": "python",
   "pygments_lexer": "ipython3",
   "version": "3.5.2"
  }
 },
 "nbformat": 4,
 "nbformat_minor": 2
}
