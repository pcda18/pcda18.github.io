{
 "cells": [
  {
   "cell_type": "markdown",
   "metadata": {},
   "source": [
    "## *CSV Input/Output Continued*"
   ]
  },
  {
   "cell_type": "code",
   "execution_count": null,
   "metadata": {},
   "outputs": [],
   "source": [
    "## Download CSV metadata on artists and artworks in MoMA's collection\n",
    "\n",
    "import os\n",
    "os.chdir('/sharedfolder/')\n",
    "\n",
    "!wget -N https://media.githubusercontent.com/media/MuseumofModernArt/collection/master/Artists.csv\n",
    "!wget -N https://media.githubusercontent.com/media/MuseumofModernArt/collection/master/Artworks.csv"
   ]
  },
  {
   "cell_type": "code",
   "execution_count": null,
   "metadata": {},
   "outputs": [],
   "source": [
    "## Load 'Artists.csv' as a list of lists called 'table'\n",
    "\n",
    "import csv\n",
    "\n",
    "csv_path = \"/sharedfolder/Artists.csv\"\n",
    "table = []\n",
    "\n",
    "with open(csv_path) as file_in:\n",
    "    csv_input = csv.reader(file_in)\n",
    "    for row in csv_input:\n",
    "        table.append(row)\n",
    "\n",
    "table[:3]"
   ]
  },
  {
   "cell_type": "code",
   "execution_count": null,
   "metadata": {},
   "outputs": [],
   "source": [
    "## Removing the column header row and assigning it to its own variable\n",
    "\n",
    "header_row = table[0]\n",
    "\n",
    "table = table[1:]\n",
    "\n",
    "header_row"
   ]
  },
  {
   "cell_type": "code",
   "execution_count": null,
   "metadata": {},
   "outputs": [],
   "source": [
    "## Viewing column headers next to their index values\n",
    "\n",
    "list(enumerate(header_row))"
   ]
  },
  {
   "cell_type": "code",
   "execution_count": null,
   "metadata": {},
   "outputs": [],
   "source": [
    "## Using list comprehension format to extract all birth date values in the column labeled 'BeginDate'\n",
    "\n",
    "birth_years = [row[5] for row in table]\n",
    "\n",
    "birth_years"
   ]
  },
  {
   "cell_type": "code",
   "execution_count": null,
   "metadata": {},
   "outputs": [],
   "source": [
    "## Converting each 'BeginDate' value to an integer with a list comprehension\n",
    "\n",
    "birth_years = [int(row[5]) for row in table]\n",
    "\n",
    "birth_years"
   ]
  },
  {
   "cell_type": "code",
   "execution_count": null,
   "metadata": {},
   "outputs": [],
   "source": [
    "## Converting each 'BeginDate' value to an integer, then skipping all zeroes\n",
    "\n",
    "birth_years = [int(row[5]) for row in table if int(row[5])!=0]\n",
    "\n",
    "birth_years"
   ]
  },
  {
   "cell_type": "code",
   "execution_count": null,
   "metadata": {},
   "outputs": [],
   "source": [
    "## Calculating the mean birth year with numpy\n",
    "\n",
    "import numpy as np\n",
    "\n",
    "np.mean(birth_years)"
   ]
  },
  {
   "cell_type": "markdown",
   "metadata": {},
   "source": [
    "## *Filtering rows*"
   ]
  },
  {
   "cell_type": "code",
   "execution_count": null,
   "metadata": {},
   "outputs": [],
   "source": [
    "## Write a piece of code that creates a new table (i.e., list of lists)\n",
    "## containing only artists born in the 1880s.\n",
    "\n",
    "\n",
    "born_1880s = []\n",
    "\n",
    "for row in table:\n",
    "    if 1880 <= int(row[5]) <= 1889:\n",
    "        born_1880s.append(row)\n",
    "\n",
    "\n",
    "print(len(born_1880s))"
   ]
  },
  {
   "cell_type": "code",
   "execution_count": null,
   "metadata": {},
   "outputs": [],
   "source": [
    "## View 3 random rows in our 'born_1880s' list of lists\n",
    "\n",
    "import random\n",
    "\n",
    "random.sample(born_1880s, 3)"
   ]
  },
  {
   "cell_type": "markdown",
   "metadata": {},
   "source": [
    "### *Average Artist Age*\n",
    "\n",
    "Now that we’ve defined a meaningful subset of our data, let’s see what we can do with it. For instance, what was the mean life span of artists born in the 1880s (who happen to be included in MoMA's collection)?"
   ]
  },
  {
   "cell_type": "code",
   "execution_count": null,
   "metadata": {},
   "outputs": [],
   "source": [
    "lifespans_1880s = []\n",
    "\n",
    "for row in born_1880s:\n",
    "    lifespans_1880s.append(int(row[6]) - int(row[5]))\n",
    "\n",
    "lifespans_1880s"
   ]
  },
  {
   "cell_type": "markdown",
   "metadata": {},
   "source": [
    "If you scroll through your list of lifespans, you’ll see occasional negative numbers (e.g., “-1887”). Since missing values are represented by “0,” if no death date is listed we’ll end up subtracting an artist’s birth year from zero. Let’s amend our code to leave out these rows.\n"
   ]
  },
  {
   "cell_type": "code",
   "execution_count": null,
   "metadata": {},
   "outputs": [],
   "source": [
    "lifespans_1880s = []\n",
    "\n",
    "for row in born_1880s:\n",
    "    age = int(row[6])-int(row[5])\n",
    "    if age > 0:\n",
    "        lifespans_1880s.append(age)\n",
    "\n",
    "lifespans_1880s"
   ]
  },
  {
   "cell_type": "markdown",
   "metadata": {},
   "source": [
    "Now that we have a list of valid integers, all we need to do is calculate the mean. Below we divide the sum of the list (which we cast as a float) by its length to get 72.64 years.\n"
   ]
  },
  {
   "cell_type": "code",
   "execution_count": null,
   "metadata": {},
   "outputs": [],
   "source": [
    "## Mean lifespan of artists born in the 1880s\n",
    "\n",
    "float(sum(lifespans_1880s)) / len(lifespans_1880s)"
   ]
  },
  {
   "cell_type": "code",
   "execution_count": null,
   "metadata": {},
   "outputs": [],
   "source": [
    "## Mean lifespan of artists born in the 1880s\n",
    "# A common convention is to rename the NumPy package to 'np' at the import step.\n",
    "\n",
    "import numpy as np\n",
    "\n",
    "np.mean(lifespans_1880s)"
   ]
  },
  {
   "cell_type": "markdown",
   "metadata": {},
   "source": [
    "### *Quick Assignment*\n",
    "\n",
    "Write a piece of code that creates a new table containing all artworks that include the term “Fluxus” in any metadata field.\n"
   ]
  },
  {
   "cell_type": "code",
   "execution_count": null,
   "metadata": {},
   "outputs": [],
   "source": [
    "## Load 'Artworks.csv' as a list of lists called 'table'\n",
    "\n",
    "import csv\n",
    "\n",
    "csv_path = \"/sharedfolder/Artworks.csv\"\n",
    "artwork_table = []\n",
    "\n",
    "with open(csv_path) as file_in:\n",
    "    csv_input = csv.reader(file_in)\n",
    "    for row in csv_input:\n",
    "        artwork_table.append(row)\n",
    "\n",
    "len(artwork_table)"
   ]
  },
  {
   "cell_type": "code",
   "execution_count": null,
   "metadata": {},
   "outputs": [],
   "source": [
    "artwork_header = artwork_table[0]\n",
    "\n",
    "artwork_table = artwork_table[1:]\n",
    "\n",
    "list(enumerate(artwork_header))"
   ]
  },
  {
   "cell_type": "code",
   "execution_count": null,
   "metadata": {},
   "outputs": [],
   "source": [
    "## ..."
   ]
  },
  {
   "cell_type": "code",
   "execution_count": null,
   "metadata": {},
   "outputs": [],
   "source": []
  },
  {
   "cell_type": "code",
   "execution_count": null,
   "metadata": {},
   "outputs": [],
   "source": []
  },
  {
   "cell_type": "code",
   "execution_count": null,
   "metadata": {},
   "outputs": [],
   "source": []
  },
  {
   "cell_type": "code",
   "execution_count": null,
   "metadata": {},
   "outputs": [],
   "source": []
  },
  {
   "cell_type": "code",
   "execution_count": null,
   "metadata": {},
   "outputs": [],
   "source": []
  },
  {
   "cell_type": "code",
   "execution_count": null,
   "metadata": {},
   "outputs": [],
   "source": []
  },
  {
   "cell_type": "code",
   "execution_count": null,
   "metadata": {},
   "outputs": [],
   "source": [
    "## A possible solution:\n",
    "\n",
    "fluxus_table = []\n",
    "\n",
    "for row in artwork_table:\n",
    "    for cell in row:\n",
    "        if 'fluxus' in cell.lower():\n",
    "            if row not in fluxus_table:\n",
    "                fluxus_table.append(row)\n",
    "\n",
    "len(fluxus_table)"
   ]
  },
  {
   "cell_type": "code",
   "execution_count": null,
   "metadata": {},
   "outputs": [],
   "source": [
    "### Fluxus Metadata Continued\n",
    "# Now let’s make a master list of entries under “medium” in our Fluxus metadata set.\n",
    "\n",
    "medium_list = []\n",
    "\n",
    "for row in fluxus_table:\n",
    "    medium_list.append(row[9])\n",
    "\n",
    "len(medium_list)"
   ]
  },
  {
   "cell_type": "code",
   "execution_count": null,
   "metadata": {},
   "outputs": [],
   "source": [
    "## Let’s look at 10 random samples from the medium list.\n",
    "\n",
    "import random\n",
    "\n",
    "random.sample(medium_list, 10)"
   ]
  },
  {
   "cell_type": "code",
   "execution_count": null,
   "metadata": {},
   "outputs": [],
   "source": [
    "# Let’s see what terms appear most frequently in our list of media.\n",
    "\n",
    "from collections import Counter\n",
    "\n",
    "c = Counter(medium_list)\n",
    "c.most_common(10)\n",
    "\n",
    "# Note that 944 artworks are missing an entry for “medium,” with the term “(CONFIRM)” appearing 136 times."
   ]
  },
  {
   "cell_type": "code",
   "execution_count": null,
   "metadata": {},
   "outputs": [],
   "source": [
    "# Let's look at the most common nationalities in our table of Fluxus artworks. \n",
    "# Here we’re once again using the `Counter` constructor from the `collections` package.\n",
    "\n",
    "from collections import Counter\n",
    "\n",
    "c = Counter([row[4] for row in fluxus_table])\n",
    "c.most_common(20)"
   ]
  },
  {
   "cell_type": "code",
   "execution_count": null,
   "metadata": {},
   "outputs": [],
   "source": [
    "#### Writing CSVs\n",
    "# Now that we’ve filtered our metadata, let’s export it to a new CSV file called 'fluxus_table.csv'.\n",
    "\n",
    "outpath = \"/sharedfolder/fluxus_table.csv\"\n",
    "\n",
    "with open(outpath, 'w') as fo:\n",
    "    csv_writer = csv.writer(fo)\n",
    "    csv_writer.writerow(artwork_header)\n",
    "    csv_writer.writerows(fluxus_table)\n",
    "\n",
    "\n",
    "# Note that we call use the `writerow()` function first to write the header row, then `writerows()` to write the list of lists.\n",
    "\n",
    "# Find the new file in `sharedfolder` and open it in Excel or LibreOffice. Take a few moments to explore the collection."
   ]
  },
  {
   "cell_type": "code",
   "execution_count": null,
   "metadata": {},
   "outputs": [],
   "source": []
  },
  {
   "cell_type": "code",
   "execution_count": null,
   "metadata": {},
   "outputs": [],
   "source": []
  },
  {
   "cell_type": "code",
   "execution_count": null,
   "metadata": {},
   "outputs": [],
   "source": []
  },
  {
   "cell_type": "code",
   "execution_count": null,
   "metadata": {},
   "outputs": [],
   "source": []
  },
  {
   "cell_type": "markdown",
   "metadata": {},
   "source": [
    "\n",
    "### *Quick Assignment*\n",
    "\n",
    "Returning to the MoMA artwork metadata table, write a piece of code that extracts only works created in the 1960s (or another decade of your choosing). \n",
    "\n",
    "Since the date field in MoMA’s metadata doesn’t follow a strictly defined numerical format, you’ll have to think about how to interpret values like “1963,” “1963-5,\" “c. 1963,” “c. 1960s,” etc.\n"
   ]
  },
  {
   "cell_type": "code",
   "execution_count": null,
   "metadata": {},
   "outputs": [],
   "source": [
    "random.choice(artwork_table)"
   ]
  },
  {
   "cell_type": "code",
   "execution_count": null,
   "metadata": {},
   "outputs": [],
   "source": [
    "# ..."
   ]
  },
  {
   "cell_type": "code",
   "execution_count": null,
   "metadata": {},
   "outputs": [],
   "source": []
  },
  {
   "cell_type": "code",
   "execution_count": null,
   "metadata": {},
   "outputs": [],
   "source": []
  },
  {
   "cell_type": "code",
   "execution_count": null,
   "metadata": {},
   "outputs": [],
   "source": []
  },
  {
   "cell_type": "code",
   "execution_count": null,
   "metadata": {},
   "outputs": [],
   "source": []
  },
  {
   "cell_type": "code",
   "execution_count": null,
   "metadata": {},
   "outputs": [],
   "source": []
  },
  {
   "cell_type": "code",
   "execution_count": null,
   "metadata": {},
   "outputs": [],
   "source": []
  },
  {
   "cell_type": "code",
   "execution_count": null,
   "metadata": {},
   "outputs": [],
   "source": []
  },
  {
   "cell_type": "code",
   "execution_count": null,
   "metadata": {},
   "outputs": [],
   "source": []
  },
  {
   "cell_type": "code",
   "execution_count": null,
   "metadata": {},
   "outputs": [],
   "source": []
  }
 ],
 "metadata": {
  "kernelspec": {
   "display_name": "Python 3",
   "language": "python",
   "name": "python3"
  },
  "language_info": {
   "codemirror_mode": {
    "name": "ipython",
    "version": 3
   },
   "file_extension": ".py",
   "mimetype": "text/x-python",
   "name": "python",
   "nbconvert_exporter": "python",
   "pygments_lexer": "ipython3",
   "version": "3.5.2"
  }
 },
 "nbformat": 4,
 "nbformat_minor": 2
}
